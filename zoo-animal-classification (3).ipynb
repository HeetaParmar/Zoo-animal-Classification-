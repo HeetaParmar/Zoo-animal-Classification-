{
 "cells": [
  {
   "cell_type": "code",
   "execution_count": 1,
   "id": "ba5c319a",
   "metadata": {
    "_cell_guid": "b1076dfc-b9ad-4769-8c92-a6c4dae69d19",
    "_uuid": "8f2839f25d086af736a60e9eeb907d3b93b6e0e5",
    "execution": {
     "iopub.execute_input": "2023-05-19T12:31:27.410871Z",
     "iopub.status.busy": "2023-05-19T12:31:27.410329Z",
     "iopub.status.idle": "2023-05-19T12:31:27.432813Z",
     "shell.execute_reply": "2023-05-19T12:31:27.431617Z"
    },
    "papermill": {
     "duration": 0.053165,
     "end_time": "2023-05-19T12:31:27.436370",
     "exception": false,
     "start_time": "2023-05-19T12:31:27.383205",
     "status": "completed"
    },
    "tags": []
   },
   "outputs": [
    {
     "name": "stdout",
     "output_type": "stream",
     "text": [
      "/kaggle/input/zoo-animal-classification/class.csv\n",
      "/kaggle/input/zoo-animal-classification/zoo.csv\n"
     ]
    }
   ],
   "source": [
    "# This Python 3 environment comes with many helpful analytics libraries installed\n",
    "# It is defined by the kaggle/python Docker image: https://github.com/kaggle/docker-python\n",
    "# For example, here's several helpful packages to load\n",
    "\n",
    "import numpy as np # linear algebra\n",
    "import pandas as pd # data processing, CSV file I/O (e.g. pd.read_csv)\n",
    "\n",
    "# Input data files are available in the read-only \"../input/\" directory\n",
    "# For example, running this (by clicking run or pressing Shift+Enter) will list all files under the input directory\n",
    "\n",
    "import os\n",
    "for dirname, _, filenames in os.walk('/kaggle/input'):\n",
    "    for filename in filenames:\n",
    "        print(os.path.join(dirname, filename))\n",
    "\n",
    "# You can write up to 20GB to the current directory (/kaggle/working/) that gets preserved as output when you create a version using \"Save & Run All\" \n",
    "# You can also write temporary files to /kaggle/temp/, but they won't be saved outside of the current session"
   ]
  },
  {
   "cell_type": "code",
   "execution_count": 2,
   "id": "f5879a1d",
   "metadata": {
    "execution": {
     "iopub.execute_input": "2023-05-19T12:31:27.491735Z",
     "iopub.status.busy": "2023-05-19T12:31:27.491248Z",
     "iopub.status.idle": "2023-05-19T12:31:30.222175Z",
     "shell.execute_reply": "2023-05-19T12:31:30.220682Z"
    },
    "papermill": {
     "duration": 2.761808,
     "end_time": "2023-05-19T12:31:30.225557",
     "exception": false,
     "start_time": "2023-05-19T12:31:27.463749",
     "status": "completed"
    },
    "tags": []
   },
   "outputs": [],
   "source": [
    "# importing the libraries \n",
    "import numpy as np \n",
    "import pandas as pd\n",
    "import seaborn as sns\n",
    "import matplotlib .pyplot as plt\n",
    "%matplotlib inline\n",
    "import plotly.express as px"
   ]
  },
  {
   "cell_type": "code",
   "execution_count": 3,
   "id": "f48804f5",
   "metadata": {
    "execution": {
     "iopub.execute_input": "2023-05-19T12:31:30.274689Z",
     "iopub.status.busy": "2023-05-19T12:31:30.274173Z",
     "iopub.status.idle": "2023-05-19T12:31:30.321444Z",
     "shell.execute_reply": "2023-05-19T12:31:30.320364Z"
    },
    "papermill": {
     "duration": 0.075328,
     "end_time": "2023-05-19T12:31:30.323921",
     "exception": false,
     "start_time": "2023-05-19T12:31:30.248593",
     "status": "completed"
    },
    "tags": []
   },
   "outputs": [
    {
     "data": {
      "text/html": [
       "<div>\n",
       "<style scoped>\n",
       "    .dataframe tbody tr th:only-of-type {\n",
       "        vertical-align: middle;\n",
       "    }\n",
       "\n",
       "    .dataframe tbody tr th {\n",
       "        vertical-align: top;\n",
       "    }\n",
       "\n",
       "    .dataframe thead th {\n",
       "        text-align: right;\n",
       "    }\n",
       "</style>\n",
       "<table border=\"1\" class=\"dataframe\">\n",
       "  <thead>\n",
       "    <tr style=\"text-align: right;\">\n",
       "      <th></th>\n",
       "      <th>animal_name</th>\n",
       "      <th>hair</th>\n",
       "      <th>feathers</th>\n",
       "      <th>eggs</th>\n",
       "      <th>milk</th>\n",
       "      <th>airborne</th>\n",
       "      <th>aquatic</th>\n",
       "      <th>predator</th>\n",
       "      <th>toothed</th>\n",
       "      <th>backbone</th>\n",
       "      <th>breathes</th>\n",
       "      <th>venomous</th>\n",
       "      <th>fins</th>\n",
       "      <th>legs</th>\n",
       "      <th>tail</th>\n",
       "      <th>domestic</th>\n",
       "      <th>catsize</th>\n",
       "      <th>class_type</th>\n",
       "    </tr>\n",
       "  </thead>\n",
       "  <tbody>\n",
       "    <tr>\n",
       "      <th>0</th>\n",
       "      <td>aardvark</td>\n",
       "      <td>1</td>\n",
       "      <td>0</td>\n",
       "      <td>0</td>\n",
       "      <td>1</td>\n",
       "      <td>0</td>\n",
       "      <td>0</td>\n",
       "      <td>1</td>\n",
       "      <td>1</td>\n",
       "      <td>1</td>\n",
       "      <td>1</td>\n",
       "      <td>0</td>\n",
       "      <td>0</td>\n",
       "      <td>4</td>\n",
       "      <td>0</td>\n",
       "      <td>0</td>\n",
       "      <td>1</td>\n",
       "      <td>1</td>\n",
       "    </tr>\n",
       "    <tr>\n",
       "      <th>1</th>\n",
       "      <td>antelope</td>\n",
       "      <td>1</td>\n",
       "      <td>0</td>\n",
       "      <td>0</td>\n",
       "      <td>1</td>\n",
       "      <td>0</td>\n",
       "      <td>0</td>\n",
       "      <td>0</td>\n",
       "      <td>1</td>\n",
       "      <td>1</td>\n",
       "      <td>1</td>\n",
       "      <td>0</td>\n",
       "      <td>0</td>\n",
       "      <td>4</td>\n",
       "      <td>1</td>\n",
       "      <td>0</td>\n",
       "      <td>1</td>\n",
       "      <td>1</td>\n",
       "    </tr>\n",
       "    <tr>\n",
       "      <th>2</th>\n",
       "      <td>bass</td>\n",
       "      <td>0</td>\n",
       "      <td>0</td>\n",
       "      <td>1</td>\n",
       "      <td>0</td>\n",
       "      <td>0</td>\n",
       "      <td>1</td>\n",
       "      <td>1</td>\n",
       "      <td>1</td>\n",
       "      <td>1</td>\n",
       "      <td>0</td>\n",
       "      <td>0</td>\n",
       "      <td>1</td>\n",
       "      <td>0</td>\n",
       "      <td>1</td>\n",
       "      <td>0</td>\n",
       "      <td>0</td>\n",
       "      <td>4</td>\n",
       "    </tr>\n",
       "    <tr>\n",
       "      <th>3</th>\n",
       "      <td>bear</td>\n",
       "      <td>1</td>\n",
       "      <td>0</td>\n",
       "      <td>0</td>\n",
       "      <td>1</td>\n",
       "      <td>0</td>\n",
       "      <td>0</td>\n",
       "      <td>1</td>\n",
       "      <td>1</td>\n",
       "      <td>1</td>\n",
       "      <td>1</td>\n",
       "      <td>0</td>\n",
       "      <td>0</td>\n",
       "      <td>4</td>\n",
       "      <td>0</td>\n",
       "      <td>0</td>\n",
       "      <td>1</td>\n",
       "      <td>1</td>\n",
       "    </tr>\n",
       "    <tr>\n",
       "      <th>4</th>\n",
       "      <td>boar</td>\n",
       "      <td>1</td>\n",
       "      <td>0</td>\n",
       "      <td>0</td>\n",
       "      <td>1</td>\n",
       "      <td>0</td>\n",
       "      <td>0</td>\n",
       "      <td>1</td>\n",
       "      <td>1</td>\n",
       "      <td>1</td>\n",
       "      <td>1</td>\n",
       "      <td>0</td>\n",
       "      <td>0</td>\n",
       "      <td>4</td>\n",
       "      <td>1</td>\n",
       "      <td>0</td>\n",
       "      <td>1</td>\n",
       "      <td>1</td>\n",
       "    </tr>\n",
       "    <tr>\n",
       "      <th>...</th>\n",
       "      <td>...</td>\n",
       "      <td>...</td>\n",
       "      <td>...</td>\n",
       "      <td>...</td>\n",
       "      <td>...</td>\n",
       "      <td>...</td>\n",
       "      <td>...</td>\n",
       "      <td>...</td>\n",
       "      <td>...</td>\n",
       "      <td>...</td>\n",
       "      <td>...</td>\n",
       "      <td>...</td>\n",
       "      <td>...</td>\n",
       "      <td>...</td>\n",
       "      <td>...</td>\n",
       "      <td>...</td>\n",
       "      <td>...</td>\n",
       "      <td>...</td>\n",
       "    </tr>\n",
       "    <tr>\n",
       "      <th>96</th>\n",
       "      <td>wallaby</td>\n",
       "      <td>1</td>\n",
       "      <td>0</td>\n",
       "      <td>0</td>\n",
       "      <td>1</td>\n",
       "      <td>0</td>\n",
       "      <td>0</td>\n",
       "      <td>0</td>\n",
       "      <td>1</td>\n",
       "      <td>1</td>\n",
       "      <td>1</td>\n",
       "      <td>0</td>\n",
       "      <td>0</td>\n",
       "      <td>2</td>\n",
       "      <td>1</td>\n",
       "      <td>0</td>\n",
       "      <td>1</td>\n",
       "      <td>1</td>\n",
       "    </tr>\n",
       "    <tr>\n",
       "      <th>97</th>\n",
       "      <td>wasp</td>\n",
       "      <td>1</td>\n",
       "      <td>0</td>\n",
       "      <td>1</td>\n",
       "      <td>0</td>\n",
       "      <td>1</td>\n",
       "      <td>0</td>\n",
       "      <td>0</td>\n",
       "      <td>0</td>\n",
       "      <td>0</td>\n",
       "      <td>1</td>\n",
       "      <td>1</td>\n",
       "      <td>0</td>\n",
       "      <td>6</td>\n",
       "      <td>0</td>\n",
       "      <td>0</td>\n",
       "      <td>0</td>\n",
       "      <td>6</td>\n",
       "    </tr>\n",
       "    <tr>\n",
       "      <th>98</th>\n",
       "      <td>wolf</td>\n",
       "      <td>1</td>\n",
       "      <td>0</td>\n",
       "      <td>0</td>\n",
       "      <td>1</td>\n",
       "      <td>0</td>\n",
       "      <td>0</td>\n",
       "      <td>1</td>\n",
       "      <td>1</td>\n",
       "      <td>1</td>\n",
       "      <td>1</td>\n",
       "      <td>0</td>\n",
       "      <td>0</td>\n",
       "      <td>4</td>\n",
       "      <td>1</td>\n",
       "      <td>0</td>\n",
       "      <td>1</td>\n",
       "      <td>1</td>\n",
       "    </tr>\n",
       "    <tr>\n",
       "      <th>99</th>\n",
       "      <td>worm</td>\n",
       "      <td>0</td>\n",
       "      <td>0</td>\n",
       "      <td>1</td>\n",
       "      <td>0</td>\n",
       "      <td>0</td>\n",
       "      <td>0</td>\n",
       "      <td>0</td>\n",
       "      <td>0</td>\n",
       "      <td>0</td>\n",
       "      <td>1</td>\n",
       "      <td>0</td>\n",
       "      <td>0</td>\n",
       "      <td>0</td>\n",
       "      <td>0</td>\n",
       "      <td>0</td>\n",
       "      <td>0</td>\n",
       "      <td>7</td>\n",
       "    </tr>\n",
       "    <tr>\n",
       "      <th>100</th>\n",
       "      <td>wren</td>\n",
       "      <td>0</td>\n",
       "      <td>1</td>\n",
       "      <td>1</td>\n",
       "      <td>0</td>\n",
       "      <td>1</td>\n",
       "      <td>0</td>\n",
       "      <td>0</td>\n",
       "      <td>0</td>\n",
       "      <td>1</td>\n",
       "      <td>1</td>\n",
       "      <td>0</td>\n",
       "      <td>0</td>\n",
       "      <td>2</td>\n",
       "      <td>1</td>\n",
       "      <td>0</td>\n",
       "      <td>0</td>\n",
       "      <td>2</td>\n",
       "    </tr>\n",
       "  </tbody>\n",
       "</table>\n",
       "<p>101 rows × 18 columns</p>\n",
       "</div>"
      ],
      "text/plain": [
       "    animal_name  hair  feathers  eggs  milk  airborne  aquatic  predator  \\\n",
       "0      aardvark     1         0     0     1         0        0         1   \n",
       "1      antelope     1         0     0     1         0        0         0   \n",
       "2          bass     0         0     1     0         0        1         1   \n",
       "3          bear     1         0     0     1         0        0         1   \n",
       "4          boar     1         0     0     1         0        0         1   \n",
       "..          ...   ...       ...   ...   ...       ...      ...       ...   \n",
       "96      wallaby     1         0     0     1         0        0         0   \n",
       "97         wasp     1         0     1     0         1        0         0   \n",
       "98         wolf     1         0     0     1         0        0         1   \n",
       "99         worm     0         0     1     0         0        0         0   \n",
       "100        wren     0         1     1     0         1        0         0   \n",
       "\n",
       "     toothed  backbone  breathes  venomous  fins  legs  tail  domestic  \\\n",
       "0          1         1         1         0     0     4     0         0   \n",
       "1          1         1         1         0     0     4     1         0   \n",
       "2          1         1         0         0     1     0     1         0   \n",
       "3          1         1         1         0     0     4     0         0   \n",
       "4          1         1         1         0     0     4     1         0   \n",
       "..       ...       ...       ...       ...   ...   ...   ...       ...   \n",
       "96         1         1         1         0     0     2     1         0   \n",
       "97         0         0         1         1     0     6     0         0   \n",
       "98         1         1         1         0     0     4     1         0   \n",
       "99         0         0         1         0     0     0     0         0   \n",
       "100        0         1         1         0     0     2     1         0   \n",
       "\n",
       "     catsize  class_type  \n",
       "0          1           1  \n",
       "1          1           1  \n",
       "2          0           4  \n",
       "3          1           1  \n",
       "4          1           1  \n",
       "..       ...         ...  \n",
       "96         1           1  \n",
       "97         0           6  \n",
       "98         1           1  \n",
       "99         0           7  \n",
       "100        0           2  \n",
       "\n",
       "[101 rows x 18 columns]"
      ]
     },
     "execution_count": 3,
     "metadata": {},
     "output_type": "execute_result"
    }
   ],
   "source": [
    "# loading the datset\n",
    "data=pd.read_csv(\"/kaggle/input/zoo-animal-classification/zoo.csv\")\n",
    "data\n"
   ]
  },
  {
   "cell_type": "code",
   "execution_count": 4,
   "id": "dd3d997d",
   "metadata": {
    "execution": {
     "iopub.execute_input": "2023-05-19T12:31:30.374914Z",
     "iopub.status.busy": "2023-05-19T12:31:30.374144Z",
     "iopub.status.idle": "2023-05-19T12:31:30.383174Z",
     "shell.execute_reply": "2023-05-19T12:31:30.381879Z"
    },
    "papermill": {
     "duration": 0.037245,
     "end_time": "2023-05-19T12:31:30.385810",
     "exception": false,
     "start_time": "2023-05-19T12:31:30.348565",
     "status": "completed"
    },
    "tags": []
   },
   "outputs": [
    {
     "data": {
      "text/plain": [
       "(101, 18)"
      ]
     },
     "execution_count": 4,
     "metadata": {},
     "output_type": "execute_result"
    }
   ],
   "source": [
    "data.shape"
   ]
  },
  {
   "cell_type": "markdown",
   "id": "9b2b9b16",
   "metadata": {
    "papermill": {
     "duration": 0.023223,
     "end_time": "2023-05-19T12:31:30.433187",
     "exception": false,
     "start_time": "2023-05-19T12:31:30.409964",
     "status": "completed"
    },
    "tags": []
   },
   "source": [
    "the data consist of 101 observations and 18 columns \n",
    "\n"
   ]
  },
  {
   "cell_type": "markdown",
   "id": "dd4be313",
   "metadata": {
    "papermill": {
     "duration": 0.023393,
     "end_time": "2023-05-19T12:31:30.480195",
     "exception": false,
     "start_time": "2023-05-19T12:31:30.456802",
     "status": "completed"
    },
    "tags": []
   },
   "source": [
    "**1. Data Prepocessing\n",
    "* Evaluate the missing values and duplicates\n",
    "* Set the features and target\n",
    "* Check data type\n",
    "* Train-Test-Split**"
   ]
  },
  {
   "cell_type": "code",
   "execution_count": 5,
   "id": "cede4ea1",
   "metadata": {
    "execution": {
     "iopub.execute_input": "2023-05-19T12:31:30.529842Z",
     "iopub.status.busy": "2023-05-19T12:31:30.528963Z",
     "iopub.status.idle": "2023-05-19T12:31:30.541037Z",
     "shell.execute_reply": "2023-05-19T12:31:30.539601Z"
    },
    "papermill": {
     "duration": 0.040244,
     "end_time": "2023-05-19T12:31:30.543973",
     "exception": false,
     "start_time": "2023-05-19T12:31:30.503729",
     "status": "completed"
    },
    "tags": []
   },
   "outputs": [
    {
     "data": {
      "text/plain": [
       "animal_name    0\n",
       "hair           0\n",
       "feathers       0\n",
       "eggs           0\n",
       "milk           0\n",
       "airborne       0\n",
       "aquatic        0\n",
       "predator       0\n",
       "toothed        0\n",
       "backbone       0\n",
       "breathes       0\n",
       "venomous       0\n",
       "fins           0\n",
       "legs           0\n",
       "tail           0\n",
       "domestic       0\n",
       "catsize        0\n",
       "class_type     0\n",
       "dtype: int64"
      ]
     },
     "execution_count": 5,
     "metadata": {},
     "output_type": "execute_result"
    }
   ],
   "source": [
    "data.isnull().sum() # checking the null values in the dataset"
   ]
  },
  {
   "cell_type": "markdown",
   "id": "9d8a665e",
   "metadata": {
    "papermill": {
     "duration": 0.023438,
     "end_time": "2023-05-19T12:31:30.593163",
     "exception": false,
     "start_time": "2023-05-19T12:31:30.569725",
     "status": "completed"
    },
    "tags": []
   },
   "source": [
    "The Data consists of no null values."
   ]
  },
  {
   "cell_type": "code",
   "execution_count": 6,
   "id": "9af71e35",
   "metadata": {
    "execution": {
     "iopub.execute_input": "2023-05-19T12:31:30.642675Z",
     "iopub.status.busy": "2023-05-19T12:31:30.642217Z",
     "iopub.status.idle": "2023-05-19T12:31:30.659153Z",
     "shell.execute_reply": "2023-05-19T12:31:30.657936Z"
    },
    "papermill": {
     "duration": 0.044954,
     "end_time": "2023-05-19T12:31:30.661788",
     "exception": false,
     "start_time": "2023-05-19T12:31:30.616834",
     "status": "completed"
    },
    "tags": []
   },
   "outputs": [
    {
     "data": {
      "text/plain": [
       "animal_name    100\n",
       "hair             2\n",
       "feathers         2\n",
       "eggs             2\n",
       "milk             2\n",
       "airborne         2\n",
       "aquatic          2\n",
       "predator         2\n",
       "toothed          2\n",
       "backbone         2\n",
       "breathes         2\n",
       "venomous         2\n",
       "fins             2\n",
       "legs             6\n",
       "tail             2\n",
       "domestic         2\n",
       "catsize          2\n",
       "class_type       7\n",
       "dtype: int64"
      ]
     },
     "execution_count": 6,
     "metadata": {},
     "output_type": "execute_result"
    }
   ],
   "source": [
    "data.nunique()"
   ]
  },
  {
   "cell_type": "code",
   "execution_count": 7,
   "id": "653699b4",
   "metadata": {
    "execution": {
     "iopub.execute_input": "2023-05-19T12:31:30.713104Z",
     "iopub.status.busy": "2023-05-19T12:31:30.711687Z",
     "iopub.status.idle": "2023-05-19T12:31:30.728116Z",
     "shell.execute_reply": "2023-05-19T12:31:30.726811Z"
    },
    "papermill": {
     "duration": 0.044833,
     "end_time": "2023-05-19T12:31:30.731176",
     "exception": false,
     "start_time": "2023-05-19T12:31:30.686343",
     "status": "completed"
    },
    "tags": []
   },
   "outputs": [
    {
     "data": {
      "text/plain": [
       "frog    2\n",
       "Name: animal_name, dtype: int64"
      ]
     },
     "execution_count": 7,
     "metadata": {},
     "output_type": "execute_result"
    }
   ],
   "source": [
    "\n",
    "#check if there are duplicates in animal_name\n",
    "duplicates = data.animal_name.value_counts()\n",
    "duplicates[duplicates > 1]"
   ]
  },
  {
   "cell_type": "code",
   "execution_count": 8,
   "id": "1d1c898c",
   "metadata": {
    "execution": {
     "iopub.execute_input": "2023-05-19T12:31:30.783166Z",
     "iopub.status.busy": "2023-05-19T12:31:30.781955Z",
     "iopub.status.idle": "2023-05-19T12:31:30.805298Z",
     "shell.execute_reply": "2023-05-19T12:31:30.804082Z"
    },
    "papermill": {
     "duration": 0.051962,
     "end_time": "2023-05-19T12:31:30.808337",
     "exception": false,
     "start_time": "2023-05-19T12:31:30.756375",
     "status": "completed"
    },
    "tags": []
   },
   "outputs": [
    {
     "data": {
      "text/html": [
       "<div>\n",
       "<style scoped>\n",
       "    .dataframe tbody tr th:only-of-type {\n",
       "        vertical-align: middle;\n",
       "    }\n",
       "\n",
       "    .dataframe tbody tr th {\n",
       "        vertical-align: top;\n",
       "    }\n",
       "\n",
       "    .dataframe thead th {\n",
       "        text-align: right;\n",
       "    }\n",
       "</style>\n",
       "<table border=\"1\" class=\"dataframe\">\n",
       "  <thead>\n",
       "    <tr style=\"text-align: right;\">\n",
       "      <th></th>\n",
       "      <th>animal_name</th>\n",
       "      <th>hair</th>\n",
       "      <th>feathers</th>\n",
       "      <th>eggs</th>\n",
       "      <th>milk</th>\n",
       "      <th>airborne</th>\n",
       "      <th>aquatic</th>\n",
       "      <th>predator</th>\n",
       "      <th>toothed</th>\n",
       "      <th>backbone</th>\n",
       "      <th>breathes</th>\n",
       "      <th>venomous</th>\n",
       "      <th>fins</th>\n",
       "      <th>legs</th>\n",
       "      <th>tail</th>\n",
       "      <th>domestic</th>\n",
       "      <th>catsize</th>\n",
       "      <th>class_type</th>\n",
       "    </tr>\n",
       "  </thead>\n",
       "  <tbody>\n",
       "    <tr>\n",
       "      <th>25</th>\n",
       "      <td>frog</td>\n",
       "      <td>0</td>\n",
       "      <td>0</td>\n",
       "      <td>1</td>\n",
       "      <td>0</td>\n",
       "      <td>0</td>\n",
       "      <td>1</td>\n",
       "      <td>1</td>\n",
       "      <td>1</td>\n",
       "      <td>1</td>\n",
       "      <td>1</td>\n",
       "      <td>0</td>\n",
       "      <td>0</td>\n",
       "      <td>4</td>\n",
       "      <td>0</td>\n",
       "      <td>0</td>\n",
       "      <td>0</td>\n",
       "      <td>5</td>\n",
       "    </tr>\n",
       "    <tr>\n",
       "      <th>26</th>\n",
       "      <td>frog</td>\n",
       "      <td>0</td>\n",
       "      <td>0</td>\n",
       "      <td>1</td>\n",
       "      <td>0</td>\n",
       "      <td>0</td>\n",
       "      <td>1</td>\n",
       "      <td>1</td>\n",
       "      <td>1</td>\n",
       "      <td>1</td>\n",
       "      <td>1</td>\n",
       "      <td>1</td>\n",
       "      <td>0</td>\n",
       "      <td>4</td>\n",
       "      <td>0</td>\n",
       "      <td>0</td>\n",
       "      <td>0</td>\n",
       "      <td>5</td>\n",
       "    </tr>\n",
       "  </tbody>\n",
       "</table>\n",
       "</div>"
      ],
      "text/plain": [
       "   animal_name  hair  feathers  eggs  milk  airborne  aquatic  predator  \\\n",
       "25        frog     0         0     1     0         0        1         1   \n",
       "26        frog     0         0     1     0         0        1         1   \n",
       "\n",
       "    toothed  backbone  breathes  venomous  fins  legs  tail  domestic  \\\n",
       "25        1         1         1         0     0     4     0         0   \n",
       "26        1         1         1         1     0     4     0         0   \n",
       "\n",
       "    catsize  class_type  \n",
       "25        0           5  \n",
       "26        0           5  "
      ]
     },
     "execution_count": 8,
     "metadata": {},
     "output_type": "execute_result"
    }
   ],
   "source": [
    "frog = data.loc[data['animal_name'] == 'frog']\n",
    "frog"
   ]
  },
  {
   "cell_type": "code",
   "execution_count": 9,
   "id": "393ad65a",
   "metadata": {
    "execution": {
     "iopub.execute_input": "2023-05-19T12:31:30.859240Z",
     "iopub.status.busy": "2023-05-19T12:31:30.858765Z",
     "iopub.status.idle": "2023-05-19T12:31:30.869812Z",
     "shell.execute_reply": "2023-05-19T12:31:30.868335Z"
    },
    "papermill": {
     "duration": 0.040504,
     "end_time": "2023-05-19T12:31:30.873306",
     "exception": false,
     "start_time": "2023-05-19T12:31:30.832802",
     "status": "completed"
    },
    "tags": []
   },
   "outputs": [
    {
     "name": "stderr",
     "output_type": "stream",
     "text": [
      "/opt/conda/lib/python3.7/site-packages/ipykernel_launcher.py:1: SettingWithCopyWarning: \n",
      "A value is trying to be set on a copy of a slice from a DataFrame\n",
      "\n",
      "See the caveats in the documentation: https://pandas.pydata.org/pandas-docs/stable/user_guide/indexing.html#returning-a-view-versus-a-copy\n",
      "  \"\"\"Entry point for launching an IPython kernel.\n"
     ]
    }
   ],
   "source": [
    "data[\"animal_name\"][(data.animal_name == 'frog')&(data.venomous==1)]=\"frog_venomous\"\n"
   ]
  },
  {
   "cell_type": "code",
   "execution_count": 10,
   "id": "bb5409e3",
   "metadata": {
    "execution": {
     "iopub.execute_input": "2023-05-19T12:31:30.924347Z",
     "iopub.status.busy": "2023-05-19T12:31:30.923926Z",
     "iopub.status.idle": "2023-05-19T12:31:30.933237Z",
     "shell.execute_reply": "2023-05-19T12:31:30.932246Z"
    },
    "papermill": {
     "duration": 0.037966,
     "end_time": "2023-05-19T12:31:30.936009",
     "exception": false,
     "start_time": "2023-05-19T12:31:30.898043",
     "status": "completed"
    },
    "tags": []
   },
   "outputs": [
    {
     "data": {
      "text/plain": [
       "1    41\n",
       "2    20\n",
       "4    13\n",
       "7    10\n",
       "6     8\n",
       "3     5\n",
       "5     4\n",
       "Name: class_type, dtype: int64"
      ]
     },
     "execution_count": 10,
     "metadata": {},
     "output_type": "execute_result"
    }
   ],
   "source": [
    "data[\"class_type\"].value_counts()#checking count of each class type."
   ]
  },
  {
   "cell_type": "code",
   "execution_count": 11,
   "id": "1194fba6",
   "metadata": {
    "execution": {
     "iopub.execute_input": "2023-05-19T12:31:30.987706Z",
     "iopub.status.busy": "2023-05-19T12:31:30.987217Z",
     "iopub.status.idle": "2023-05-19T12:31:30.996763Z",
     "shell.execute_reply": "2023-05-19T12:31:30.995414Z"
    },
    "papermill": {
     "duration": 0.038888,
     "end_time": "2023-05-19T12:31:30.999581",
     "exception": false,
     "start_time": "2023-05-19T12:31:30.960693",
     "status": "completed"
    },
    "tags": []
   },
   "outputs": [],
   "source": [
    "data1=data[\"class_type\"].replace(1,\"Mammals\").replace(2,\"Bird\").replace(3,\"Reptile\").replace(4,\"Fish\").replace(5,\"Amphibian\").replace(6,\"Bug\").replace(7,\"Invertebrate\")\n",
    "           "
   ]
  },
  {
   "cell_type": "code",
   "execution_count": 12,
   "id": "4eceabf1",
   "metadata": {
    "execution": {
     "iopub.execute_input": "2023-05-19T12:31:31.051933Z",
     "iopub.status.busy": "2023-05-19T12:31:31.051445Z",
     "iopub.status.idle": "2023-05-19T12:31:31.061336Z",
     "shell.execute_reply": "2023-05-19T12:31:31.059953Z"
    },
    "papermill": {
     "duration": 0.039065,
     "end_time": "2023-05-19T12:31:31.064128",
     "exception": false,
     "start_time": "2023-05-19T12:31:31.025063",
     "status": "completed"
    },
    "tags": []
   },
   "outputs": [
    {
     "data": {
      "text/plain": [
       "0           Mammals\n",
       "1           Mammals\n",
       "2              Fish\n",
       "3           Mammals\n",
       "4           Mammals\n",
       "           ...     \n",
       "96          Mammals\n",
       "97              Bug\n",
       "98          Mammals\n",
       "99     Invertebrate\n",
       "100            Bird\n",
       "Name: class_type, Length: 101, dtype: object"
      ]
     },
     "execution_count": 12,
     "metadata": {},
     "output_type": "execute_result"
    }
   ],
   "source": [
    "data1"
   ]
  },
  {
   "cell_type": "code",
   "execution_count": 13,
   "id": "a257109a",
   "metadata": {
    "execution": {
     "iopub.execute_input": "2023-05-19T12:31:31.116050Z",
     "iopub.status.busy": "2023-05-19T12:31:31.115615Z",
     "iopub.status.idle": "2023-05-19T12:31:31.140338Z",
     "shell.execute_reply": "2023-05-19T12:31:31.138860Z"
    },
    "papermill": {
     "duration": 0.054018,
     "end_time": "2023-05-19T12:31:31.143416",
     "exception": false,
     "start_time": "2023-05-19T12:31:31.089398",
     "status": "completed"
    },
    "tags": []
   },
   "outputs": [
    {
     "data": {
      "text/html": [
       "<div>\n",
       "<style scoped>\n",
       "    .dataframe tbody tr th:only-of-type {\n",
       "        vertical-align: middle;\n",
       "    }\n",
       "\n",
       "    .dataframe tbody tr th {\n",
       "        vertical-align: top;\n",
       "    }\n",
       "\n",
       "    .dataframe thead th {\n",
       "        text-align: right;\n",
       "    }\n",
       "</style>\n",
       "<table border=\"1\" class=\"dataframe\">\n",
       "  <thead>\n",
       "    <tr style=\"text-align: right;\">\n",
       "      <th></th>\n",
       "      <th>animal_name</th>\n",
       "      <th>hair</th>\n",
       "      <th>feathers</th>\n",
       "      <th>eggs</th>\n",
       "      <th>milk</th>\n",
       "      <th>airborne</th>\n",
       "      <th>aquatic</th>\n",
       "      <th>predator</th>\n",
       "      <th>toothed</th>\n",
       "      <th>backbone</th>\n",
       "      <th>breathes</th>\n",
       "      <th>venomous</th>\n",
       "      <th>fins</th>\n",
       "      <th>legs</th>\n",
       "      <th>tail</th>\n",
       "      <th>domestic</th>\n",
       "      <th>catsize</th>\n",
       "      <th>class_type_x</th>\n",
       "      <th>class_type_y</th>\n",
       "    </tr>\n",
       "  </thead>\n",
       "  <tbody>\n",
       "    <tr>\n",
       "      <th>0</th>\n",
       "      <td>aardvark</td>\n",
       "      <td>1</td>\n",
       "      <td>0</td>\n",
       "      <td>0</td>\n",
       "      <td>1</td>\n",
       "      <td>0</td>\n",
       "      <td>0</td>\n",
       "      <td>1</td>\n",
       "      <td>1</td>\n",
       "      <td>1</td>\n",
       "      <td>1</td>\n",
       "      <td>0</td>\n",
       "      <td>0</td>\n",
       "      <td>4</td>\n",
       "      <td>0</td>\n",
       "      <td>0</td>\n",
       "      <td>1</td>\n",
       "      <td>1</td>\n",
       "      <td>Mammals</td>\n",
       "    </tr>\n",
       "    <tr>\n",
       "      <th>1</th>\n",
       "      <td>antelope</td>\n",
       "      <td>1</td>\n",
       "      <td>0</td>\n",
       "      <td>0</td>\n",
       "      <td>1</td>\n",
       "      <td>0</td>\n",
       "      <td>0</td>\n",
       "      <td>0</td>\n",
       "      <td>1</td>\n",
       "      <td>1</td>\n",
       "      <td>1</td>\n",
       "      <td>0</td>\n",
       "      <td>0</td>\n",
       "      <td>4</td>\n",
       "      <td>1</td>\n",
       "      <td>0</td>\n",
       "      <td>1</td>\n",
       "      <td>1</td>\n",
       "      <td>Mammals</td>\n",
       "    </tr>\n",
       "    <tr>\n",
       "      <th>2</th>\n",
       "      <td>bass</td>\n",
       "      <td>0</td>\n",
       "      <td>0</td>\n",
       "      <td>1</td>\n",
       "      <td>0</td>\n",
       "      <td>0</td>\n",
       "      <td>1</td>\n",
       "      <td>1</td>\n",
       "      <td>1</td>\n",
       "      <td>1</td>\n",
       "      <td>0</td>\n",
       "      <td>0</td>\n",
       "      <td>1</td>\n",
       "      <td>0</td>\n",
       "      <td>1</td>\n",
       "      <td>0</td>\n",
       "      <td>0</td>\n",
       "      <td>4</td>\n",
       "      <td>Fish</td>\n",
       "    </tr>\n",
       "    <tr>\n",
       "      <th>3</th>\n",
       "      <td>bear</td>\n",
       "      <td>1</td>\n",
       "      <td>0</td>\n",
       "      <td>0</td>\n",
       "      <td>1</td>\n",
       "      <td>0</td>\n",
       "      <td>0</td>\n",
       "      <td>1</td>\n",
       "      <td>1</td>\n",
       "      <td>1</td>\n",
       "      <td>1</td>\n",
       "      <td>0</td>\n",
       "      <td>0</td>\n",
       "      <td>4</td>\n",
       "      <td>0</td>\n",
       "      <td>0</td>\n",
       "      <td>1</td>\n",
       "      <td>1</td>\n",
       "      <td>Mammals</td>\n",
       "    </tr>\n",
       "    <tr>\n",
       "      <th>4</th>\n",
       "      <td>boar</td>\n",
       "      <td>1</td>\n",
       "      <td>0</td>\n",
       "      <td>0</td>\n",
       "      <td>1</td>\n",
       "      <td>0</td>\n",
       "      <td>0</td>\n",
       "      <td>1</td>\n",
       "      <td>1</td>\n",
       "      <td>1</td>\n",
       "      <td>1</td>\n",
       "      <td>0</td>\n",
       "      <td>0</td>\n",
       "      <td>4</td>\n",
       "      <td>1</td>\n",
       "      <td>0</td>\n",
       "      <td>1</td>\n",
       "      <td>1</td>\n",
       "      <td>Mammals</td>\n",
       "    </tr>\n",
       "  </tbody>\n",
       "</table>\n",
       "</div>"
      ],
      "text/plain": [
       "  animal_name  hair  feathers  eggs  milk  airborne  aquatic  predator  \\\n",
       "0    aardvark     1         0     0     1         0        0         1   \n",
       "1    antelope     1         0     0     1         0        0         0   \n",
       "2        bass     0         0     1     0         0        1         1   \n",
       "3        bear     1         0     0     1         0        0         1   \n",
       "4        boar     1         0     0     1         0        0         1   \n",
       "\n",
       "   toothed  backbone  breathes  venomous  fins  legs  tail  domestic  catsize  \\\n",
       "0        1         1         1         0     0     4     0         0        1   \n",
       "1        1         1         1         0     0     4     1         0        1   \n",
       "2        1         1         0         0     1     0     1         0        0   \n",
       "3        1         1         1         0     0     4     0         0        1   \n",
       "4        1         1         1         0     0     4     1         0        1   \n",
       "\n",
       "   class_type_x class_type_y  \n",
       "0             1      Mammals  \n",
       "1             1      Mammals  \n",
       "2             4         Fish  \n",
       "3             1      Mammals  \n",
       "4             1      Mammals  "
      ]
     },
     "execution_count": 13,
     "metadata": {},
     "output_type": "execute_result"
    }
   ],
   "source": [
    "zoo = pd.merge(data,data1,left_index=True,right_index=True)\n",
    "zoo.head()"
   ]
  },
  {
   "cell_type": "code",
   "execution_count": 14,
   "id": "39966357",
   "metadata": {
    "execution": {
     "iopub.execute_input": "2023-05-19T12:31:31.197466Z",
     "iopub.status.busy": "2023-05-19T12:31:31.197036Z",
     "iopub.status.idle": "2023-05-19T12:31:31.206147Z",
     "shell.execute_reply": "2023-05-19T12:31:31.205088Z"
    },
    "papermill": {
     "duration": 0.039145,
     "end_time": "2023-05-19T12:31:31.208861",
     "exception": false,
     "start_time": "2023-05-19T12:31:31.169716",
     "status": "completed"
    },
    "tags": []
   },
   "outputs": [],
   "source": [
    "df=zoo.drop(\"class_type_x\",axis=1)"
   ]
  },
  {
   "cell_type": "code",
   "execution_count": 15,
   "id": "2cc87cbf",
   "metadata": {
    "execution": {
     "iopub.execute_input": "2023-05-19T12:31:31.261876Z",
     "iopub.status.busy": "2023-05-19T12:31:31.260644Z",
     "iopub.status.idle": "2023-05-19T12:31:31.288079Z",
     "shell.execute_reply": "2023-05-19T12:31:31.286942Z"
    },
    "papermill": {
     "duration": 0.056616,
     "end_time": "2023-05-19T12:31:31.290718",
     "exception": false,
     "start_time": "2023-05-19T12:31:31.234102",
     "status": "completed"
    },
    "tags": []
   },
   "outputs": [
    {
     "data": {
      "text/html": [
       "<div>\n",
       "<style scoped>\n",
       "    .dataframe tbody tr th:only-of-type {\n",
       "        vertical-align: middle;\n",
       "    }\n",
       "\n",
       "    .dataframe tbody tr th {\n",
       "        vertical-align: top;\n",
       "    }\n",
       "\n",
       "    .dataframe thead th {\n",
       "        text-align: right;\n",
       "    }\n",
       "</style>\n",
       "<table border=\"1\" class=\"dataframe\">\n",
       "  <thead>\n",
       "    <tr style=\"text-align: right;\">\n",
       "      <th></th>\n",
       "      <th>animal_name</th>\n",
       "      <th>hair</th>\n",
       "      <th>feathers</th>\n",
       "      <th>eggs</th>\n",
       "      <th>milk</th>\n",
       "      <th>airborne</th>\n",
       "      <th>aquatic</th>\n",
       "      <th>predator</th>\n",
       "      <th>toothed</th>\n",
       "      <th>backbone</th>\n",
       "      <th>breathes</th>\n",
       "      <th>venomous</th>\n",
       "      <th>fins</th>\n",
       "      <th>legs</th>\n",
       "      <th>tail</th>\n",
       "      <th>domestic</th>\n",
       "      <th>catsize</th>\n",
       "      <th>class_type_y</th>\n",
       "    </tr>\n",
       "  </thead>\n",
       "  <tbody>\n",
       "    <tr>\n",
       "      <th>0</th>\n",
       "      <td>aardvark</td>\n",
       "      <td>1</td>\n",
       "      <td>0</td>\n",
       "      <td>0</td>\n",
       "      <td>1</td>\n",
       "      <td>0</td>\n",
       "      <td>0</td>\n",
       "      <td>1</td>\n",
       "      <td>1</td>\n",
       "      <td>1</td>\n",
       "      <td>1</td>\n",
       "      <td>0</td>\n",
       "      <td>0</td>\n",
       "      <td>4</td>\n",
       "      <td>0</td>\n",
       "      <td>0</td>\n",
       "      <td>1</td>\n",
       "      <td>Mammals</td>\n",
       "    </tr>\n",
       "    <tr>\n",
       "      <th>1</th>\n",
       "      <td>antelope</td>\n",
       "      <td>1</td>\n",
       "      <td>0</td>\n",
       "      <td>0</td>\n",
       "      <td>1</td>\n",
       "      <td>0</td>\n",
       "      <td>0</td>\n",
       "      <td>0</td>\n",
       "      <td>1</td>\n",
       "      <td>1</td>\n",
       "      <td>1</td>\n",
       "      <td>0</td>\n",
       "      <td>0</td>\n",
       "      <td>4</td>\n",
       "      <td>1</td>\n",
       "      <td>0</td>\n",
       "      <td>1</td>\n",
       "      <td>Mammals</td>\n",
       "    </tr>\n",
       "    <tr>\n",
       "      <th>2</th>\n",
       "      <td>bass</td>\n",
       "      <td>0</td>\n",
       "      <td>0</td>\n",
       "      <td>1</td>\n",
       "      <td>0</td>\n",
       "      <td>0</td>\n",
       "      <td>1</td>\n",
       "      <td>1</td>\n",
       "      <td>1</td>\n",
       "      <td>1</td>\n",
       "      <td>0</td>\n",
       "      <td>0</td>\n",
       "      <td>1</td>\n",
       "      <td>0</td>\n",
       "      <td>1</td>\n",
       "      <td>0</td>\n",
       "      <td>0</td>\n",
       "      <td>Fish</td>\n",
       "    </tr>\n",
       "    <tr>\n",
       "      <th>3</th>\n",
       "      <td>bear</td>\n",
       "      <td>1</td>\n",
       "      <td>0</td>\n",
       "      <td>0</td>\n",
       "      <td>1</td>\n",
       "      <td>0</td>\n",
       "      <td>0</td>\n",
       "      <td>1</td>\n",
       "      <td>1</td>\n",
       "      <td>1</td>\n",
       "      <td>1</td>\n",
       "      <td>0</td>\n",
       "      <td>0</td>\n",
       "      <td>4</td>\n",
       "      <td>0</td>\n",
       "      <td>0</td>\n",
       "      <td>1</td>\n",
       "      <td>Mammals</td>\n",
       "    </tr>\n",
       "    <tr>\n",
       "      <th>4</th>\n",
       "      <td>boar</td>\n",
       "      <td>1</td>\n",
       "      <td>0</td>\n",
       "      <td>0</td>\n",
       "      <td>1</td>\n",
       "      <td>0</td>\n",
       "      <td>0</td>\n",
       "      <td>1</td>\n",
       "      <td>1</td>\n",
       "      <td>1</td>\n",
       "      <td>1</td>\n",
       "      <td>0</td>\n",
       "      <td>0</td>\n",
       "      <td>4</td>\n",
       "      <td>1</td>\n",
       "      <td>0</td>\n",
       "      <td>1</td>\n",
       "      <td>Mammals</td>\n",
       "    </tr>\n",
       "    <tr>\n",
       "      <th>...</th>\n",
       "      <td>...</td>\n",
       "      <td>...</td>\n",
       "      <td>...</td>\n",
       "      <td>...</td>\n",
       "      <td>...</td>\n",
       "      <td>...</td>\n",
       "      <td>...</td>\n",
       "      <td>...</td>\n",
       "      <td>...</td>\n",
       "      <td>...</td>\n",
       "      <td>...</td>\n",
       "      <td>...</td>\n",
       "      <td>...</td>\n",
       "      <td>...</td>\n",
       "      <td>...</td>\n",
       "      <td>...</td>\n",
       "      <td>...</td>\n",
       "      <td>...</td>\n",
       "    </tr>\n",
       "    <tr>\n",
       "      <th>96</th>\n",
       "      <td>wallaby</td>\n",
       "      <td>1</td>\n",
       "      <td>0</td>\n",
       "      <td>0</td>\n",
       "      <td>1</td>\n",
       "      <td>0</td>\n",
       "      <td>0</td>\n",
       "      <td>0</td>\n",
       "      <td>1</td>\n",
       "      <td>1</td>\n",
       "      <td>1</td>\n",
       "      <td>0</td>\n",
       "      <td>0</td>\n",
       "      <td>2</td>\n",
       "      <td>1</td>\n",
       "      <td>0</td>\n",
       "      <td>1</td>\n",
       "      <td>Mammals</td>\n",
       "    </tr>\n",
       "    <tr>\n",
       "      <th>97</th>\n",
       "      <td>wasp</td>\n",
       "      <td>1</td>\n",
       "      <td>0</td>\n",
       "      <td>1</td>\n",
       "      <td>0</td>\n",
       "      <td>1</td>\n",
       "      <td>0</td>\n",
       "      <td>0</td>\n",
       "      <td>0</td>\n",
       "      <td>0</td>\n",
       "      <td>1</td>\n",
       "      <td>1</td>\n",
       "      <td>0</td>\n",
       "      <td>6</td>\n",
       "      <td>0</td>\n",
       "      <td>0</td>\n",
       "      <td>0</td>\n",
       "      <td>Bug</td>\n",
       "    </tr>\n",
       "    <tr>\n",
       "      <th>98</th>\n",
       "      <td>wolf</td>\n",
       "      <td>1</td>\n",
       "      <td>0</td>\n",
       "      <td>0</td>\n",
       "      <td>1</td>\n",
       "      <td>0</td>\n",
       "      <td>0</td>\n",
       "      <td>1</td>\n",
       "      <td>1</td>\n",
       "      <td>1</td>\n",
       "      <td>1</td>\n",
       "      <td>0</td>\n",
       "      <td>0</td>\n",
       "      <td>4</td>\n",
       "      <td>1</td>\n",
       "      <td>0</td>\n",
       "      <td>1</td>\n",
       "      <td>Mammals</td>\n",
       "    </tr>\n",
       "    <tr>\n",
       "      <th>99</th>\n",
       "      <td>worm</td>\n",
       "      <td>0</td>\n",
       "      <td>0</td>\n",
       "      <td>1</td>\n",
       "      <td>0</td>\n",
       "      <td>0</td>\n",
       "      <td>0</td>\n",
       "      <td>0</td>\n",
       "      <td>0</td>\n",
       "      <td>0</td>\n",
       "      <td>1</td>\n",
       "      <td>0</td>\n",
       "      <td>0</td>\n",
       "      <td>0</td>\n",
       "      <td>0</td>\n",
       "      <td>0</td>\n",
       "      <td>0</td>\n",
       "      <td>Invertebrate</td>\n",
       "    </tr>\n",
       "    <tr>\n",
       "      <th>100</th>\n",
       "      <td>wren</td>\n",
       "      <td>0</td>\n",
       "      <td>1</td>\n",
       "      <td>1</td>\n",
       "      <td>0</td>\n",
       "      <td>1</td>\n",
       "      <td>0</td>\n",
       "      <td>0</td>\n",
       "      <td>0</td>\n",
       "      <td>1</td>\n",
       "      <td>1</td>\n",
       "      <td>0</td>\n",
       "      <td>0</td>\n",
       "      <td>2</td>\n",
       "      <td>1</td>\n",
       "      <td>0</td>\n",
       "      <td>0</td>\n",
       "      <td>Bird</td>\n",
       "    </tr>\n",
       "  </tbody>\n",
       "</table>\n",
       "<p>101 rows × 18 columns</p>\n",
       "</div>"
      ],
      "text/plain": [
       "    animal_name  hair  feathers  eggs  milk  airborne  aquatic  predator  \\\n",
       "0      aardvark     1         0     0     1         0        0         1   \n",
       "1      antelope     1         0     0     1         0        0         0   \n",
       "2          bass     0         0     1     0         0        1         1   \n",
       "3          bear     1         0     0     1         0        0         1   \n",
       "4          boar     1         0     0     1         0        0         1   \n",
       "..          ...   ...       ...   ...   ...       ...      ...       ...   \n",
       "96      wallaby     1         0     0     1         0        0         0   \n",
       "97         wasp     1         0     1     0         1        0         0   \n",
       "98         wolf     1         0     0     1         0        0         1   \n",
       "99         worm     0         0     1     0         0        0         0   \n",
       "100        wren     0         1     1     0         1        0         0   \n",
       "\n",
       "     toothed  backbone  breathes  venomous  fins  legs  tail  domestic  \\\n",
       "0          1         1         1         0     0     4     0         0   \n",
       "1          1         1         1         0     0     4     1         0   \n",
       "2          1         1         0         0     1     0     1         0   \n",
       "3          1         1         1         0     0     4     0         0   \n",
       "4          1         1         1         0     0     4     1         0   \n",
       "..       ...       ...       ...       ...   ...   ...   ...       ...   \n",
       "96         1         1         1         0     0     2     1         0   \n",
       "97         0         0         1         1     0     6     0         0   \n",
       "98         1         1         1         0     0     4     1         0   \n",
       "99         0         0         1         0     0     0     0         0   \n",
       "100        0         1         1         0     0     2     1         0   \n",
       "\n",
       "     catsize  class_type_y  \n",
       "0          1       Mammals  \n",
       "1          1       Mammals  \n",
       "2          0          Fish  \n",
       "3          1       Mammals  \n",
       "4          1       Mammals  \n",
       "..       ...           ...  \n",
       "96         1       Mammals  \n",
       "97         0           Bug  \n",
       "98         1       Mammals  \n",
       "99         0  Invertebrate  \n",
       "100        0          Bird  \n",
       "\n",
       "[101 rows x 18 columns]"
      ]
     },
     "execution_count": 15,
     "metadata": {},
     "output_type": "execute_result"
    }
   ],
   "source": [
    "df #the final data after all pre-processing work!"
   ]
  },
  {
   "cell_type": "markdown",
   "id": "f8e1acc6",
   "metadata": {
    "papermill": {
     "duration": 0.02573,
     "end_time": "2023-05-19T12:31:31.344335",
     "exception": false,
     "start_time": "2023-05-19T12:31:31.318605",
     "status": "completed"
    },
    "tags": []
   },
   "source": [
    "Since it is a ditochomous data we cannot compute correlation .So in order to check the relation of the variables with their class type we use hypothesis i.e chi-square test."
   ]
  },
  {
   "cell_type": "code",
   "execution_count": 16,
   "id": "5331418c",
   "metadata": {
    "execution": {
     "iopub.execute_input": "2023-05-19T12:31:31.399876Z",
     "iopub.status.busy": "2023-05-19T12:31:31.399085Z",
     "iopub.status.idle": "2023-05-19T12:31:31.427490Z",
     "shell.execute_reply": "2023-05-19T12:31:31.425957Z"
    },
    "papermill": {
     "duration": 0.059626,
     "end_time": "2023-05-19T12:31:31.430392",
     "exception": false,
     "start_time": "2023-05-19T12:31:31.370766",
     "status": "completed"
    },
    "tags": []
   },
   "outputs": [
    {
     "name": "stdout",
     "output_type": "stream",
     "text": [
      "Chi-square statistic: 85.0381794355233\n",
      "p-value: 3.241550711414804e-16\n",
      "Degrees of freedom: 6\n",
      "Expected frequencies: [[23.54455446 17.45544554]\n",
      " [11.48514851  8.51485149]\n",
      " [ 2.87128713  2.12871287]\n",
      " [ 7.46534653  5.53465347]\n",
      " [ 2.2970297   1.7029703 ]\n",
      " [ 4.59405941  3.40594059]\n",
      " [ 5.74257426  4.25742574]]\n"
     ]
    }
   ],
   "source": [
    "from scipy.stats import chi2_contingency\n",
    "contingency_table = pd.crosstab(data['class_type'], data['hair'])\n",
    "\n",
    "# Perform the chi-square test\n",
    "stat, p, dof, expected = chi2_contingency(contingency_table)\n",
    "\n",
    "# Print the results\n",
    "print('Chi-square statistic:', stat)\n",
    "print('p-value:', p)\n",
    "print('Degrees of freedom:', dof)\n",
    "print('Expected frequencies:', expected)"
   ]
  },
  {
   "cell_type": "markdown",
   "id": "5fc6f24d",
   "metadata": {
    "papermill": {
     "duration": 0.026303,
     "end_time": "2023-05-19T12:31:31.483156",
     "exception": false,
     "start_time": "2023-05-19T12:31:31.456853",
     "status": "completed"
    },
    "tags": []
   },
   "source": [
    "The null hypothesis of the test is that there is no association between the class type and the hair type. If the p-value is less than the significance level (e.g., 0.05), we reject the null hypothesis and conclude that there is a significant association between the class type and the hair type in the dataset."
   ]
  },
  {
   "cell_type": "code",
   "execution_count": 17,
   "id": "faeea5e4",
   "metadata": {
    "execution": {
     "iopub.execute_input": "2023-05-19T12:31:31.539236Z",
     "iopub.status.busy": "2023-05-19T12:31:31.538117Z",
     "iopub.status.idle": "2023-05-19T12:31:31.562569Z",
     "shell.execute_reply": "2023-05-19T12:31:31.560871Z"
    },
    "papermill": {
     "duration": 0.055573,
     "end_time": "2023-05-19T12:31:31.565322",
     "exception": false,
     "start_time": "2023-05-19T12:31:31.509749",
     "status": "completed"
    },
    "tags": []
   },
   "outputs": [
    {
     "name": "stdout",
     "output_type": "stream",
     "text": [
      "Chi-square statistic: 241.7289361231522\n",
      "p-value: 5.942172597812372e-35\n",
      "Degrees of freedom: 30\n",
      "Expected frequencies: [[ 9.33663366 10.96039604 15.42574257  0.40594059  4.05940594  0.81188119]\n",
      " [ 4.55445545  5.34653465  7.52475248  0.1980198   1.98019802  0.3960396 ]\n",
      " [ 1.13861386  1.33663366  1.88118812  0.04950495  0.4950495   0.0990099 ]\n",
      " [ 2.96039604  3.47524752  4.89108911  0.12871287  1.28712871  0.25742574]\n",
      " [ 0.91089109  1.06930693  1.5049505   0.03960396  0.3960396   0.07920792]\n",
      " [ 1.82178218  2.13861386  3.00990099  0.07920792  0.79207921  0.15841584]\n",
      " [ 2.27722772  2.67326733  3.76237624  0.0990099   0.99009901  0.1980198 ]]\n"
     ]
    }
   ],
   "source": [
    "contingency_table = pd.crosstab(data['class_type'], data['legs'])\n",
    "\n",
    "# Perform the chi-square test\n",
    "stat, p, dof, expected = chi2_contingency(contingency_table)\n",
    "\n",
    "# Print the results\n",
    "print('Chi-square statistic:', stat)\n",
    "print('p-value:', p)\n",
    "print('Degrees of freedom:', dof)\n",
    "print('Expected frequencies:', expected)"
   ]
  },
  {
   "cell_type": "markdown",
   "id": "0b09c948",
   "metadata": {
    "papermill": {
     "duration": 0.025857,
     "end_time": "2023-05-19T12:31:31.617762",
     "exception": false,
     "start_time": "2023-05-19T12:31:31.591905",
     "status": "completed"
    },
    "tags": []
   },
   "source": [
    "# ****DATA VISUALIZATION.****"
   ]
  },
  {
   "cell_type": "code",
   "execution_count": 18,
   "id": "cdffedfc",
   "metadata": {
    "execution": {
     "iopub.execute_input": "2023-05-19T12:31:31.673992Z",
     "iopub.status.busy": "2023-05-19T12:31:31.672753Z",
     "iopub.status.idle": "2023-05-19T12:31:31.680045Z",
     "shell.execute_reply": "2023-05-19T12:31:31.678570Z"
    },
    "papermill": {
     "duration": 0.038639,
     "end_time": "2023-05-19T12:31:31.682905",
     "exception": false,
     "start_time": "2023-05-19T12:31:31.644266",
     "status": "completed"
    },
    "tags": []
   },
   "outputs": [],
   "source": [
    "plt.style.use(\"dark_background\")#to set the background color\n",
    "plt.rcParams[\"figure.figsize\"]=[12,6]# setting the graph size"
   ]
  },
  {
   "cell_type": "code",
   "execution_count": 19,
   "id": "9cf735b3",
   "metadata": {
    "execution": {
     "iopub.execute_input": "2023-05-19T12:31:31.737209Z",
     "iopub.status.busy": "2023-05-19T12:31:31.736762Z",
     "iopub.status.idle": "2023-05-19T12:31:34.359445Z",
     "shell.execute_reply": "2023-05-19T12:31:34.358000Z"
    },
    "papermill": {
     "duration": 2.653576,
     "end_time": "2023-05-19T12:31:34.362774",
     "exception": false,
     "start_time": "2023-05-19T12:31:31.709198",
     "status": "completed"
    },
    "tags": []
   },
   "outputs": [
    {
     "data": {
      "image/png": "[encoded data removed]",
      "text/plain": [
       "<Figure size 864x432 with 1 Axes>"
      ]
     },
     "metadata": {},
     "output_type": "display_data"
    },
    {
     "data": {
      "image/png": "[encoded data removed]",
      "text/plain": [
       "<Figure size 864x432 with 1 Axes>"
      ]
     },
     "metadata": {},
     "output_type": "display_data"
    },
    {
     "data": {
      "image/png": "[encoded data removed]",
      "text/plain": [
       "<Figure size 864x432 with 1 Axes>"
      ]
     },
     "metadata": {},
     "output_type": "display_data"
    },
    {
     "data": {
      "image/png": "[encoded data removed]",
      "text/plain": [
       "<Figure size 864x432 with 1 Axes>"
      ]
     },
     "metadata": {},
     "output_type": "display_data"
    },
    {
     "data": {
      "image/png": "[encoded data removed]",
      "text/plain": [
       "<Figure size 864x432 with 1 Axes>"
      ]
     },
     "metadata": {},
     "output_type": "display_data"
    },
    {
     "data": {
      "image/png": "[encoded data removed]",
      "text/plain": [
       "<Figure size 864x432 with 1 Axes>"
      ]
     },
     "metadata": {},
     "output_type": "display_data"
    },
    {
     "data": {
      "image/png": "[encoded data removed]",
      "text/plain": [
       "<Figure size 864x432 with 1 Axes>"
      ]
     },
     "metadata": {},
     "output_type": "display_data"
    },
    {
     "data": {
      "image/png": "[encoded data removed]",
      "text/plain": [
       "<Figure size 864x432 with 1 Axes>"
      ]
     },
     "metadata": {},
     "output_type": "display_data"
    },
    {
     "data": {
      "image/png": "[encoded data removed]",
      "text/plain": [
       "<Figure size 864x432 with 1 Axes>"
      ]
     },
     "metadata": {},
     "output_type": "display_data"
    }
   ],
   "source": [
    "# visulisation  \n",
    "for hue in [\"hair\", \"feathers\", \"airborne\", \"milk\", \"backbone\", \"toothed\", \"venomous\", \"legs\", \"tail\"]:  \n",
    "    sns.countplot(data = zoo, x = \"class_type_y\", hue = hue, palette = \"Accent\")\n",
    "    plt.title(f\"Frequency Distribution of Class with respect to {hue}\")\n",
    "    plt.show()"
   ]
  },
  {
   "cell_type": "markdown",
   "id": "8d32e3bd",
   "metadata": {
    "papermill": {
     "duration": 0.031533,
     "end_time": "2023-05-19T12:31:34.431786",
     "exception": false,
     "start_time": "2023-05-19T12:31:34.400253",
     "status": "completed"
    },
    "tags": []
   },
   "source": [
    "Conclusion from the graphs:\n",
    "1. Most of the  Mammals and 50% of the Bug have legs .\n",
    "1. Only birds have feathers.\n",
    "1. except  for invertebrates and bug rest all class type are classified by backbone.\n",
    "1.Birds ,Invertebrate,bug are non-toothed .\n"
   ]
  },
  {
   "cell_type": "code",
   "execution_count": 20,
   "id": "7ac77e87",
   "metadata": {
    "execution": {
     "iopub.execute_input": "2023-05-19T12:31:34.494889Z",
     "iopub.status.busy": "2023-05-19T12:31:34.494065Z",
     "iopub.status.idle": "2023-05-19T12:31:34.723247Z",
     "shell.execute_reply": "2023-05-19T12:31:34.721774Z"
    },
    "papermill": {
     "duration": 0.264134,
     "end_time": "2023-05-19T12:31:34.726142",
     "exception": false,
     "start_time": "2023-05-19T12:31:34.462008",
     "status": "completed"
    },
    "tags": []
   },
   "outputs": [
    {
     "data": {
      "text/plain": [
       "<AxesSubplot:xlabel='class_type_y', ylabel='count'>"
      ]
     },
     "execution_count": 20,
     "metadata": {},
     "output_type": "execute_result"
    },
    {
     "data": {
      "image/png": "[encoded data removed]",
      "text/plain": [
       "<Figure size 864x432 with 1 Axes>"
      ]
     },
     "metadata": {},
     "output_type": "display_data"
    }
   ],
   "source": [
    "sns.set_theme(style=\"darkgrid\")\n",
    "#use seaborn to plot the count of each 7 class_type\n",
    "sns.countplot(x='class_type_y',saturation=.80, data=zoo)"
   ]
  },
  {
   "cell_type": "markdown",
   "id": "5a6cff50",
   "metadata": {
    "papermill": {
     "duration": 0.030187,
     "end_time": "2023-05-19T12:31:34.787056",
     "exception": false,
     "start_time": "2023-05-19T12:31:34.756869",
     "status": "completed"
    },
    "tags": []
   },
   "source": [
    "\n",
    " Class 1 (Mammal) has the highest count, followed by Class 2 (Bird) and Class 2 (Fish). These three classes seem to be more prevalent in the dataset compared to the other classes.Class 6 (Amphibian) has the lowest count among all the classes, indicating that it is the least represented class in the dataset.\n"
   ]
  },
  {
   "cell_type": "code",
   "execution_count": 21,
   "id": "9d2df355",
   "metadata": {
    "execution": {
     "iopub.execute_input": "2023-05-19T12:31:34.851774Z",
     "iopub.status.busy": "2023-05-19T12:31:34.851236Z",
     "iopub.status.idle": "2023-05-19T12:31:36.134721Z",
     "shell.execute_reply": "2023-05-19T12:31:36.133280Z"
    },
    "papermill": {
     "duration": 1.319323,
     "end_time": "2023-05-19T12:31:36.138181",
     "exception": false,
     "start_time": "2023-05-19T12:31:34.818858",
     "status": "completed"
    },
    "tags": []
   },
   "outputs": [
    {
     "data": {
      "text/html": [
       "        <script type=\"text/javascript\">\n",
       "        window.PlotlyConfig = {MathJaxConfig: 'local'};\n",
       "        if (window.MathJax && window.MathJax.Hub && window.MathJax.Hub.Config) {window.MathJax.Hub.Config({SVG: {font: \"STIX-Web\"}});}\n",
       "        if (typeof require !== 'undefined') {\n",
       "        require.undef(\"plotly\");\n",
       "        requirejs.config({\n",
       "            paths: {\n",
       "                'plotly': ['https://cdn.plot.ly/plotly-2.18.0.min']\n",
       "            }\n",
       "        });\n",
       "        require(['plotly'], function(Plotly) {\n",
       "            window._Plotly = Plotly;\n",
       "        });\n",
       "        }\n",
       "        </script>\n",
       "        "
      ]
     },
     "metadata": {},
     "output_type": "display_data"
    },
    {
     "data": {
      "text/html": [
       "<div>                            <div id=\"3bc2c4cd-dc7c-40ca-a80f-eb3a490d6e93\" class=\"plotly-graph-div\" style=\"height:525px; width:100%;\"></div>            <script type=\"text/javascript\">                require([\"plotly\"], function(Plotly) {                    window.PLOTLYENV=window.PLOTLYENV || {};                                    if (document.getElementById(\"3bc2c4cd-dc7c-40ca-a80f-eb3a490d6e93\")) {                    Plotly.newPlot(                        \"3bc2c4cd-dc7c-40ca-a80f-eb3a490d6e93\",                        [{\"domain\":{\"x\":[0.0,1.0],\"y\":[0.0,1.0]},\"hovertemplate\":\"label=%{label}<br>value=%{value}<extra></extra>\",\"labels\":[\"Mammal\",\"Bird\",\"Fish\",\"Invertebrate\",\"Bug\",\"Reptile\",\"Amphibian\"],\"legendgroup\":\"\",\"name\":\"\",\"showlegend\":true,\"values\":[41,20,13,10,8,5,4],\"type\":\"pie\"}],                        {\"template\":{\"data\":{\"histogram2dcontour\":[{\"type\":\"histogram2dcontour\",\"colorbar\":{\"outlinewidth\":0,\"ticks\":\"\"},\"colorscale\":[[0.0,\"#0d0887\"],[0.1111111111111111,\"#46039f\"],[0.2222222222222222,\"#7201a8\"],[0.3333333333333333,\"#9c179e\"],[0.4444444444444444,\"#bd3786\"],[0.5555555555555556,\"#d8576b\"],[0.6666666666666666,\"#ed7953\"],[0.7777777777777778,\"#fb9f3a\"],[0.8888888888888888,\"#fdca26\"],[1.0,\"#f0f921\"]]}],\"choropleth\":[{\"type\":\"choropleth\",\"colorbar\":{\"outlinewidth\":0,\"ticks\":\"\"}}],\"histogram2d\":[{\"type\":\"histogram2d\",\"colorbar\":{\"outlinewidth\":0,\"ticks\":\"\"},\"colorscale\":[[0.0,\"#0d0887\"],[0.1111111111111111,\"#46039f\"],[0.2222222222222222,\"#7201a8\"],[0.3333333333333333,\"#9c179e\"],[0.4444444444444444,\"#bd3786\"],[0.5555555555555556,\"#d8576b\"],[0.6666666666666666,\"#ed7953\"],[0.7777777777777778,\"#fb9f3a\"],[0.8888888888888888,\"#fdca26\"],[1.0,\"#f0f921\"]]}],\"heatmap\":[{\"type\":\"heatmap\",\"colorbar\":{\"outlinewidth\":0,\"ticks\":\"\"},\"colorscale\":[[0.0,\"#0d0887\"],[0.1111111111111111,\"#46039f\"],[0.2222222222222222,\"#7201a8\"],[0.3333333333333333,\"#9c179e\"],[0.4444444444444444,\"#bd3786\"],[0.5555555555555556,\"#d8576b\"],[0.6666666666666666,\"#ed7953\"],[0.7777777777777778,\"#fb9f3a\"],[0.8888888888888888,\"#fdca26\"],[1.0,\"#f0f921\"]]}],\"heatmapgl\":[{\"type\":\"heatmapgl\",\"colorbar\":{\"outlinewidth\":0,\"ticks\":\"\"},\"colorscale\":[[0.0,\"#0d0887\"],[0.1111111111111111,\"#46039f\"],[0.2222222222222222,\"#7201a8\"],[0.3333333333333333,\"#9c179e\"],[0.4444444444444444,\"#bd3786\"],[0.5555555555555556,\"#d8576b\"],[0.6666666666666666,\"#ed7953\"],[0.7777777777777778,\"#fb9f3a\"],[0.8888888888888888,\"#fdca26\"],[1.0,\"#f0f921\"]]}],\"contourcarpet\":[{\"type\":\"contourcarpet\",\"colorbar\":{\"outlinewidth\":0,\"ticks\":\"\"}}],\"contour\":[{\"type\":\"contour\",\"colorbar\":{\"outlinewidth\":0,\"ticks\":\"\"},\"colorscale\":[[0.0,\"#0d0887\"],[0.1111111111111111,\"#46039f\"],[0.2222222222222222,\"#7201a8\"],[0.3333333333333333,\"#9c179e\"],[0.4444444444444444,\"#bd3786\"],[0.5555555555555556,\"#d8576b\"],[0.6666666666666666,\"#ed7953\"],[0.7777777777777778,\"#fb9f3a\"],[0.8888888888888888,\"#fdca26\"],[1.0,\"#f0f921\"]]}],\"surface\":[{\"type\":\"surface\",\"colorbar\":{\"outlinewidth\":0,\"ticks\":\"\"},\"colorscale\":[[0.0,\"#0d0887\"],[0.1111111111111111,\"#46039f\"],[0.2222222222222222,\"#7201a8\"],[0.3333333333333333,\"#9c179e\"],[0.4444444444444444,\"#bd3786\"],[0.5555555555555556,\"#d8576b\"],[0.6666666666666666,\"#ed7953\"],[0.7777777777777778,\"#fb9f3a\"],[0.8888888888888888,\"#fdca26\"],[1.0,\"#f0f921\"]]}],\"mesh3d\":[{\"type\":\"mesh3d\",\"colorbar\":{\"outlinewidth\":0,\"ticks\":\"\"}}],\"scatter\":[{\"fillpattern\":{\"fillmode\":\"overlay\",\"size\":10,\"solidity\":0.2},\"type\":\"scatter\"}],\"parcoords\":[{\"type\":\"parcoords\",\"line\":{\"colorbar\":{\"outlinewidth\":0,\"ticks\":\"\"}}}],\"scatterpolargl\":[{\"type\":\"scatterpolargl\",\"marker\":{\"colorbar\":{\"outlinewidth\":0,\"ticks\":\"\"}}}],\"bar\":[{\"error_x\":{\"color\":\"#2a3f5f\"},\"error_y\":{\"color\":\"#2a3f5f\"},\"marker\":{\"line\":{\"color\":\"#E5ECF6\",\"width\":0.5},\"pattern\":{\"fillmode\":\"overlay\",\"size\":10,\"solidity\":0.2}},\"type\":\"bar\"}],\"scattergeo\":[{\"type\":\"scattergeo\",\"marker\":{\"colorbar\":{\"outlinewidth\":0,\"ticks\":\"\"}}}],\"scatterpolar\":[{\"type\":\"scatterpolar\",\"marker\":{\"colorbar\":{\"outlinewidth\":0,\"ticks\":\"\"}}}],\"histogram\":[{\"marker\":{\"pattern\":{\"fillmode\":\"overlay\",\"size\":10,\"solidity\":0.2}},\"type\":\"histogram\"}],\"scattergl\":[{\"type\":\"scattergl\",\"marker\":{\"colorbar\":{\"outlinewidth\":0,\"ticks\":\"\"}}}],\"scatter3d\":[{\"type\":\"scatter3d\",\"line\":{\"colorbar\":{\"outlinewidth\":0,\"ticks\":\"\"}},\"marker\":{\"colorbar\":{\"outlinewidth\":0,\"ticks\":\"\"}}}],\"scattermapbox\":[{\"type\":\"scattermapbox\",\"marker\":{\"colorbar\":{\"outlinewidth\":0,\"ticks\":\"\"}}}],\"scatterternary\":[{\"type\":\"scatterternary\",\"marker\":{\"colorbar\":{\"outlinewidth\":0,\"ticks\":\"\"}}}],\"scattercarpet\":[{\"type\":\"scattercarpet\",\"marker\":{\"colorbar\":{\"outlinewidth\":0,\"ticks\":\"\"}}}],\"carpet\":[{\"aaxis\":{\"endlinecolor\":\"#2a3f5f\",\"gridcolor\":\"white\",\"linecolor\":\"white\",\"minorgridcolor\":\"white\",\"startlinecolor\":\"#2a3f5f\"},\"baxis\":{\"endlinecolor\":\"#2a3f5f\",\"gridcolor\":\"white\",\"linecolor\":\"white\",\"minorgridcolor\":\"white\",\"startlinecolor\":\"#2a3f5f\"},\"type\":\"carpet\"}],\"table\":[{\"cells\":{\"fill\":{\"color\":\"#EBF0F8\"},\"line\":{\"color\":\"white\"}},\"header\":{\"fill\":{\"color\":\"#C8D4E3\"},\"line\":{\"color\":\"white\"}},\"type\":\"table\"}],\"barpolar\":[{\"marker\":{\"line\":{\"color\":\"#E5ECF6\",\"width\":0.5},\"pattern\":{\"fillmode\":\"overlay\",\"size\":10,\"solidity\":0.2}},\"type\":\"barpolar\"}],\"pie\":[{\"automargin\":true,\"type\":\"pie\"}]},\"layout\":{\"autotypenumbers\":\"strict\",\"colorway\":[\"#636efa\",\"#EF553B\",\"#00cc96\",\"#ab63fa\",\"#FFA15A\",\"#19d3f3\",\"#FF6692\",\"#B6E880\",\"#FF97FF\",\"#FECB52\"],\"font\":{\"color\":\"#2a3f5f\"},\"hovermode\":\"closest\",\"hoverlabel\":{\"align\":\"left\"},\"paper_bgcolor\":\"white\",\"plot_bgcolor\":\"#E5ECF6\",\"polar\":{\"bgcolor\":\"#E5ECF6\",\"angularaxis\":{\"gridcolor\":\"white\",\"linecolor\":\"white\",\"ticks\":\"\"},\"radialaxis\":{\"gridcolor\":\"white\",\"linecolor\":\"white\",\"ticks\":\"\"}},\"ternary\":{\"bgcolor\":\"#E5ECF6\",\"aaxis\":{\"gridcolor\":\"white\",\"linecolor\":\"white\",\"ticks\":\"\"},\"baxis\":{\"gridcolor\":\"white\",\"linecolor\":\"white\",\"ticks\":\"\"},\"caxis\":{\"gridcolor\":\"white\",\"linecolor\":\"white\",\"ticks\":\"\"}},\"coloraxis\":{\"colorbar\":{\"outlinewidth\":0,\"ticks\":\"\"}},\"colorscale\":{\"sequential\":[[0.0,\"#0d0887\"],[0.1111111111111111,\"#46039f\"],[0.2222222222222222,\"#7201a8\"],[0.3333333333333333,\"#9c179e\"],[0.4444444444444444,\"#bd3786\"],[0.5555555555555556,\"#d8576b\"],[0.6666666666666666,\"#ed7953\"],[0.7777777777777778,\"#fb9f3a\"],[0.8888888888888888,\"#fdca26\"],[1.0,\"#f0f921\"]],\"sequentialminus\":[[0.0,\"#0d0887\"],[0.1111111111111111,\"#46039f\"],[0.2222222222222222,\"#7201a8\"],[0.3333333333333333,\"#9c179e\"],[0.4444444444444444,\"#bd3786\"],[0.5555555555555556,\"#d8576b\"],[0.6666666666666666,\"#ed7953\"],[0.7777777777777778,\"#fb9f3a\"],[0.8888888888888888,\"#fdca26\"],[1.0,\"#f0f921\"]],\"diverging\":[[0,\"#8e0152\"],[0.1,\"#c51b7d\"],[0.2,\"#de77ae\"],[0.3,\"#f1b6da\"],[0.4,\"#fde0ef\"],[0.5,\"#f7f7f7\"],[0.6,\"#e6f5d0\"],[0.7,\"#b8e186\"],[0.8,\"#7fbc41\"],[0.9,\"#4d9221\"],[1,\"#276419\"]]},\"xaxis\":{\"gridcolor\":\"white\",\"linecolor\":\"white\",\"ticks\":\"\",\"title\":{\"standoff\":15},\"zerolinecolor\":\"white\",\"automargin\":true,\"zerolinewidth\":2},\"yaxis\":{\"gridcolor\":\"white\",\"linecolor\":\"white\",\"ticks\":\"\",\"title\":{\"standoff\":15},\"zerolinecolor\":\"white\",\"automargin\":true,\"zerolinewidth\":2},\"scene\":{\"xaxis\":{\"backgroundcolor\":\"#E5ECF6\",\"gridcolor\":\"white\",\"linecolor\":\"white\",\"showbackground\":true,\"ticks\":\"\",\"zerolinecolor\":\"white\",\"gridwidth\":2},\"yaxis\":{\"backgroundcolor\":\"#E5ECF6\",\"gridcolor\":\"white\",\"linecolor\":\"white\",\"showbackground\":true,\"ticks\":\"\",\"zerolinecolor\":\"white\",\"gridwidth\":2},\"zaxis\":{\"backgroundcolor\":\"#E5ECF6\",\"gridcolor\":\"white\",\"linecolor\":\"white\",\"showbackground\":true,\"ticks\":\"\",\"zerolinecolor\":\"white\",\"gridwidth\":2}},\"shapedefaults\":{\"line\":{\"color\":\"#2a3f5f\"}},\"annotationdefaults\":{\"arrowcolor\":\"#2a3f5f\",\"arrowhead\":0,\"arrowwidth\":1},\"geo\":{\"bgcolor\":\"white\",\"landcolor\":\"#E5ECF6\",\"subunitcolor\":\"white\",\"showland\":true,\"showlakes\":true,\"lakecolor\":\"white\"},\"title\":{\"x\":0.05},\"mapbox\":{\"style\":\"light\"}}},\"legend\":{\"tracegroupgap\":0},\"title\":{\"text\":\"Animal Class Type Distribution Pie Chart\"}},                        {\"responsive\": true}                    ).then(function(){\n",
       "                            \n",
       "var gd = document.getElementById('3bc2c4cd-dc7c-40ca-a80f-eb3a490d6e93');\n",
       "var x = new MutationObserver(function (mutations, observer) {{\n",
       "        var display = window.getComputedStyle(gd).display;\n",
       "        if (!display || display === 'none') {{\n",
       "            console.log([gd, 'removed!']);\n",
       "            Plotly.purge(gd);\n",
       "            observer.disconnect();\n",
       "        }}\n",
       "}});\n",
       "\n",
       "// Listen for the removal of the full notebook cells\n",
       "var notebookContainer = gd.closest('#notebook-container');\n",
       "if (notebookContainer) {{\n",
       "    x.observe(notebookContainer, {childList: true});\n",
       "}}\n",
       "\n",
       "// Listen for the clearing of the current output cell\n",
       "var outputEl = gd.closest('.output');\n",
       "if (outputEl) {{\n",
       "    x.observe(outputEl, {childList: true});\n",
       "}}\n",
       "\n",
       "                        })                };                });            </script>        </div>"
      ]
     },
     "metadata": {},
     "output_type": "display_data"
    }
   ],
   "source": [
    "label=[\"Mammal\",\"Bird\",\"Fish\",\"Invertebrate\",\"Bug\",\"Reptile\",\"Amphibian\"]\n",
    "values = zoo['class_type_y'].value_counts()\n",
    "\n",
    "fig=px.pie(zoo,values=values,labels=label,names=label,title=\"Animal Class Type Distribution Pie Chart\")\n",
    "fig.show()"
   ]
  },
  {
   "cell_type": "markdown",
   "id": "9da2b9c1",
   "metadata": {
    "papermill": {
     "duration": 0.030724,
     "end_time": "2023-05-19T12:31:36.201481",
     "exception": false,
     "start_time": "2023-05-19T12:31:36.170757",
     "status": "completed"
    },
    "tags": []
   },
   "source": [
    "**2:Training and testing the data\n",
    "* Decision Tree\n",
    "* Random Forest\n",
    "* Logistic Regression\n",
    "* K-Nearest Neighbors**"
   ]
  },
  {
   "cell_type": "code",
   "execution_count": 22,
   "id": "80318a81",
   "metadata": {
    "execution": {
     "iopub.execute_input": "2023-05-19T12:31:36.267803Z",
     "iopub.status.busy": "2023-05-19T12:31:36.267275Z",
     "iopub.status.idle": "2023-05-19T12:31:36.273810Z",
     "shell.execute_reply": "2023-05-19T12:31:36.272506Z"
    },
    "papermill": {
     "duration": 0.043735,
     "end_time": "2023-05-19T12:31:36.277005",
     "exception": false,
     "start_time": "2023-05-19T12:31:36.233270",
     "status": "completed"
    },
    "tags": []
   },
   "outputs": [
    {
     "name": "stdout",
     "output_type": "stream",
     "text": [
      "['animal_name', 'hair', 'feathers', 'eggs', 'milk', 'airborne', 'aquatic', 'predator', 'toothed', 'backbone', 'breathes', 'venomous', 'fins', 'legs', 'tail', 'domestic', 'catsize', 'class_type_y']\n"
     ]
    }
   ],
   "source": [
    "features = list(df.columns)\n",
    "print(features)\n",
    "     "
   ]
  },
  {
   "cell_type": "code",
   "execution_count": 23,
   "id": "f6adf0cc",
   "metadata": {
    "execution": {
     "iopub.execute_input": "2023-05-19T12:31:36.345909Z",
     "iopub.status.busy": "2023-05-19T12:31:36.344443Z",
     "iopub.status.idle": "2023-05-19T12:31:36.351955Z",
     "shell.execute_reply": "2023-05-19T12:31:36.350326Z"
    },
    "papermill": {
     "duration": 0.044481,
     "end_time": "2023-05-19T12:31:36.354758",
     "exception": false,
     "start_time": "2023-05-19T12:31:36.310277",
     "status": "completed"
    },
    "tags": []
   },
   "outputs": [
    {
     "name": "stdout",
     "output_type": "stream",
     "text": [
      "['hair', 'feathers', 'eggs', 'milk', 'airborne', 'aquatic', 'predator', 'toothed', 'backbone', 'breathes', 'venomous', 'fins', 'legs', 'tail', 'domestic', 'catsize']\n"
     ]
    }
   ],
   "source": [
    "features.remove('class_type_y')\n",
    "features.remove('animal_name')\n",
    "\n",
    "print(features)"
   ]
  },
  {
   "cell_type": "code",
   "execution_count": 24,
   "id": "f27f123a",
   "metadata": {
    "execution": {
     "iopub.execute_input": "2023-05-19T12:31:36.422479Z",
     "iopub.status.busy": "2023-05-19T12:31:36.421226Z",
     "iopub.status.idle": "2023-05-19T12:31:36.429669Z",
     "shell.execute_reply": "2023-05-19T12:31:36.428459Z"
    },
    "papermill": {
     "duration": 0.044988,
     "end_time": "2023-05-19T12:31:36.432585",
     "exception": false,
     "start_time": "2023-05-19T12:31:36.387597",
     "status": "completed"
    },
    "tags": []
   },
   "outputs": [
    {
     "name": "stdout",
     "output_type": "stream",
     "text": [
      "(101, 16)\n",
      "(101,)\n"
     ]
    }
   ],
   "source": [
    "X = df[features]\n",
    "Y = df.class_type_y\n",
    "print(X.shape)\n",
    "print(Y.shape)\n",
    "     "
   ]
  },
  {
   "cell_type": "code",
   "execution_count": 25,
   "id": "c9feeb5a",
   "metadata": {
    "execution": {
     "iopub.execute_input": "2023-05-19T12:31:36.498384Z",
     "iopub.status.busy": "2023-05-19T12:31:36.497868Z",
     "iopub.status.idle": "2023-05-19T12:31:36.735294Z",
     "shell.execute_reply": "2023-05-19T12:31:36.734045Z"
    },
    "papermill": {
     "duration": 0.274684,
     "end_time": "2023-05-19T12:31:36.738789",
     "exception": false,
     "start_time": "2023-05-19T12:31:36.464105",
     "status": "completed"
    },
    "tags": []
   },
   "outputs": [],
   "source": [
    "# split train test data into 80/20.\n",
    "from sklearn.model_selection import train_test_split\n",
    "\n",
    "X_train, X_test, y_train, y_test = train_test_split(X, Y, test_size=0.2, random_state=0, stratify=Y)"
   ]
  },
  {
   "cell_type": "markdown",
   "id": "f7950906",
   "metadata": {
    "papermill": {
     "duration": 0.033886,
     "end_time": "2023-05-19T12:31:36.804491",
     "exception": false,
     "start_time": "2023-05-19T12:31:36.770605",
     "status": "completed"
    },
    "tags": []
   },
   "source": [
    "# **1:LOGISTIC REGRESSION **"
   ]
  },
  {
   "cell_type": "code",
   "execution_count": 26,
   "id": "d83c45d0",
   "metadata": {
    "execution": {
     "iopub.execute_input": "2023-05-19T12:31:36.874014Z",
     "iopub.status.busy": "2023-05-19T12:31:36.873509Z",
     "iopub.status.idle": "2023-05-19T12:31:36.968093Z",
     "shell.execute_reply": "2023-05-19T12:31:36.966585Z"
    },
    "papermill": {
     "duration": 0.132942,
     "end_time": "2023-05-19T12:31:36.970995",
     "exception": false,
     "start_time": "2023-05-19T12:31:36.838053",
     "status": "completed"
    },
    "tags": []
   },
   "outputs": [],
   "source": [
    "\n",
    "#Using Logistic Regression to Solve the Problem\n",
    "\n",
    "from sklearn.linear_model import LogisticRegression\n",
    "model = LogisticRegression(C=1.0,solver=\"lbfgs\",multi_class=\"ovr\")\n"
   ]
  },
  {
   "cell_type": "code",
   "execution_count": 27,
   "id": "528886f6",
   "metadata": {
    "execution": {
     "iopub.execute_input": "2023-05-19T12:31:37.036659Z",
     "iopub.status.busy": "2023-05-19T12:31:37.036201Z",
     "iopub.status.idle": "2023-05-19T12:31:37.044248Z",
     "shell.execute_reply": "2023-05-19T12:31:37.042825Z"
    },
    "papermill": {
     "duration": 0.044403,
     "end_time": "2023-05-19T12:31:37.047490",
     "exception": false,
     "start_time": "2023-05-19T12:31:37.003087",
     "status": "completed"
    },
    "tags": []
   },
   "outputs": [
    {
     "data": {
      "text/plain": [
       "80"
      ]
     },
     "execution_count": 27,
     "metadata": {},
     "output_type": "execute_result"
    }
   ],
   "source": [
    "len(X_train)"
   ]
  },
  {
   "cell_type": "code",
   "execution_count": 28,
   "id": "47bf30b3",
   "metadata": {
    "execution": {
     "iopub.execute_input": "2023-05-19T12:31:37.115883Z",
     "iopub.status.busy": "2023-05-19T12:31:37.115403Z",
     "iopub.status.idle": "2023-05-19T12:31:37.122915Z",
     "shell.execute_reply": "2023-05-19T12:31:37.121634Z"
    },
    "papermill": {
     "duration": 0.044991,
     "end_time": "2023-05-19T12:31:37.125775",
     "exception": false,
     "start_time": "2023-05-19T12:31:37.080784",
     "status": "completed"
    },
    "tags": []
   },
   "outputs": [
    {
     "data": {
      "text/plain": [
       "21"
      ]
     },
     "execution_count": 28,
     "metadata": {},
     "output_type": "execute_result"
    }
   ],
   "source": [
    "len(X_test)"
   ]
  },
  {
   "cell_type": "code",
   "execution_count": 29,
   "id": "9de3e0e7",
   "metadata": {
    "execution": {
     "iopub.execute_input": "2023-05-19T12:31:37.192990Z",
     "iopub.status.busy": "2023-05-19T12:31:37.192237Z",
     "iopub.status.idle": "2023-05-19T12:31:37.262116Z",
     "shell.execute_reply": "2023-05-19T12:31:37.260963Z"
    },
    "papermill": {
     "duration": 0.10627,
     "end_time": "2023-05-19T12:31:37.264925",
     "exception": false,
     "start_time": "2023-05-19T12:31:37.158655",
     "status": "completed"
    },
    "tags": []
   },
   "outputs": [
    {
     "data": {
      "text/plain": [
       "LogisticRegression(multi_class='ovr')"
      ]
     },
     "execution_count": 29,
     "metadata": {},
     "output_type": "execute_result"
    }
   ],
   "source": [
    "#fitting he model\n",
    "model.fit(X_train,y_train)"
   ]
  },
  {
   "cell_type": "code",
   "execution_count": 30,
   "id": "b4687f1e",
   "metadata": {
    "execution": {
     "iopub.execute_input": "2023-05-19T12:31:37.333696Z",
     "iopub.status.busy": "2023-05-19T12:31:37.333175Z",
     "iopub.status.idle": "2023-05-19T12:31:37.344434Z",
     "shell.execute_reply": "2023-05-19T12:31:37.343182Z"
    },
    "papermill": {
     "duration": 0.050173,
     "end_time": "2023-05-19T12:31:37.347299",
     "exception": false,
     "start_time": "2023-05-19T12:31:37.297126",
     "status": "completed"
    },
    "tags": []
   },
   "outputs": [
    {
     "data": {
      "text/plain": [
       "array(['Mammals', 'Mammals', 'Fish', 'Bird', 'Invertebrate', 'Amphibian',\n",
       "       'Mammals', 'Bird', 'Amphibian', 'Fish', 'Bird', 'Bird', 'Bug',\n",
       "       'Bug', 'Fish', 'Mammals', 'Mammals', 'Mammals', 'Mammals',\n",
       "       'Invertebrate', 'Mammals'], dtype=object)"
      ]
     },
     "execution_count": 30,
     "metadata": {},
     "output_type": "execute_result"
    }
   ],
   "source": [
    "model.predict(X_test)"
   ]
  },
  {
   "cell_type": "code",
   "execution_count": 31,
   "id": "a0fec15b",
   "metadata": {
    "execution": {
     "iopub.execute_input": "2023-05-19T12:31:37.415117Z",
     "iopub.status.busy": "2023-05-19T12:31:37.414694Z",
     "iopub.status.idle": "2023-05-19T12:31:37.426120Z",
     "shell.execute_reply": "2023-05-19T12:31:37.424735Z"
    },
    "papermill": {
     "duration": 0.048677,
     "end_time": "2023-05-19T12:31:37.428686",
     "exception": false,
     "start_time": "2023-05-19T12:31:37.380009",
     "status": "completed"
    },
    "tags": []
   },
   "outputs": [
    {
     "data": {
      "text/plain": [
       "0.9523809523809523"
      ]
     },
     "execution_count": 31,
     "metadata": {},
     "output_type": "execute_result"
    }
   ],
   "source": [
    "model.score(X_test,y_test)"
   ]
  },
  {
   "cell_type": "code",
   "execution_count": 32,
   "id": "0f18bb60",
   "metadata": {
    "execution": {
     "iopub.execute_input": "2023-05-19T12:31:37.496362Z",
     "iopub.status.busy": "2023-05-19T12:31:37.495927Z",
     "iopub.status.idle": "2023-05-19T12:31:37.503891Z",
     "shell.execute_reply": "2023-05-19T12:31:37.502373Z"
    },
    "papermill": {
     "duration": 0.045786,
     "end_time": "2023-05-19T12:31:37.506904",
     "exception": false,
     "start_time": "2023-05-19T12:31:37.461118",
     "status": "completed"
    },
    "tags": []
   },
   "outputs": [],
   "source": [
    "a=model.predict_proba(X_test)"
   ]
  },
  {
   "cell_type": "code",
   "execution_count": 33,
   "id": "318767dc",
   "metadata": {
    "execution": {
     "iopub.execute_input": "2023-05-19T12:31:37.574493Z",
     "iopub.status.busy": "2023-05-19T12:31:37.573703Z",
     "iopub.status.idle": "2023-05-19T12:31:37.596399Z",
     "shell.execute_reply": "2023-05-19T12:31:37.594830Z"
    },
    "papermill": {
     "duration": 0.05993,
     "end_time": "2023-05-19T12:31:37.599407",
     "exception": false,
     "start_time": "2023-05-19T12:31:37.539477",
     "status": "completed"
    },
    "tags": []
   },
   "outputs": [
    {
     "data": {
      "text/html": [
       "<div>\n",
       "<style scoped>\n",
       "    .dataframe tbody tr th:only-of-type {\n",
       "        vertical-align: middle;\n",
       "    }\n",
       "\n",
       "    .dataframe tbody tr th {\n",
       "        vertical-align: top;\n",
       "    }\n",
       "\n",
       "    .dataframe thead th {\n",
       "        text-align: right;\n",
       "    }\n",
       "</style>\n",
       "<table border=\"1\" class=\"dataframe\">\n",
       "  <thead>\n",
       "    <tr style=\"text-align: right;\">\n",
       "      <th></th>\n",
       "      <th>hair</th>\n",
       "      <th>feathers</th>\n",
       "      <th>eggs</th>\n",
       "      <th>milk</th>\n",
       "      <th>airborne</th>\n",
       "      <th>aquatic</th>\n",
       "      <th>predator</th>\n",
       "      <th>toothed</th>\n",
       "      <th>backbone</th>\n",
       "      <th>breathes</th>\n",
       "      <th>venomous</th>\n",
       "      <th>fins</th>\n",
       "      <th>legs</th>\n",
       "      <th>tail</th>\n",
       "      <th>domestic</th>\n",
       "      <th>catsize</th>\n",
       "    </tr>\n",
       "  </thead>\n",
       "  <tbody>\n",
       "    <tr>\n",
       "      <th>11</th>\n",
       "      <td>0</td>\n",
       "      <td>1</td>\n",
       "      <td>1</td>\n",
       "      <td>0</td>\n",
       "      <td>1</td>\n",
       "      <td>0</td>\n",
       "      <td>0</td>\n",
       "      <td>0</td>\n",
       "      <td>1</td>\n",
       "      <td>1</td>\n",
       "      <td>0</td>\n",
       "      <td>0</td>\n",
       "      <td>2</td>\n",
       "      <td>1</td>\n",
       "      <td>1</td>\n",
       "      <td>0</td>\n",
       "    </tr>\n",
       "    <tr>\n",
       "      <th>99</th>\n",
       "      <td>0</td>\n",
       "      <td>0</td>\n",
       "      <td>1</td>\n",
       "      <td>0</td>\n",
       "      <td>0</td>\n",
       "      <td>0</td>\n",
       "      <td>0</td>\n",
       "      <td>0</td>\n",
       "      <td>0</td>\n",
       "      <td>1</td>\n",
       "      <td>0</td>\n",
       "      <td>0</td>\n",
       "      <td>0</td>\n",
       "      <td>0</td>\n",
       "      <td>0</td>\n",
       "      <td>0</td>\n",
       "    </tr>\n",
       "    <tr>\n",
       "      <th>43</th>\n",
       "      <td>0</td>\n",
       "      <td>1</td>\n",
       "      <td>1</td>\n",
       "      <td>0</td>\n",
       "      <td>1</td>\n",
       "      <td>0</td>\n",
       "      <td>0</td>\n",
       "      <td>0</td>\n",
       "      <td>1</td>\n",
       "      <td>1</td>\n",
       "      <td>0</td>\n",
       "      <td>0</td>\n",
       "      <td>2</td>\n",
       "      <td>1</td>\n",
       "      <td>0</td>\n",
       "      <td>0</td>\n",
       "    </tr>\n",
       "    <tr>\n",
       "      <th>70</th>\n",
       "      <td>1</td>\n",
       "      <td>0</td>\n",
       "      <td>0</td>\n",
       "      <td>1</td>\n",
       "      <td>0</td>\n",
       "      <td>0</td>\n",
       "      <td>0</td>\n",
       "      <td>1</td>\n",
       "      <td>1</td>\n",
       "      <td>1</td>\n",
       "      <td>0</td>\n",
       "      <td>0</td>\n",
       "      <td>4</td>\n",
       "      <td>1</td>\n",
       "      <td>1</td>\n",
       "      <td>1</td>\n",
       "    </tr>\n",
       "    <tr>\n",
       "      <th>73</th>\n",
       "      <td>0</td>\n",
       "      <td>0</td>\n",
       "      <td>1</td>\n",
       "      <td>0</td>\n",
       "      <td>0</td>\n",
       "      <td>1</td>\n",
       "      <td>0</td>\n",
       "      <td>1</td>\n",
       "      <td>1</td>\n",
       "      <td>0</td>\n",
       "      <td>0</td>\n",
       "      <td>1</td>\n",
       "      <td>0</td>\n",
       "      <td>1</td>\n",
       "      <td>0</td>\n",
       "      <td>0</td>\n",
       "    </tr>\n",
       "    <tr>\n",
       "      <th>...</th>\n",
       "      <td>...</td>\n",
       "      <td>...</td>\n",
       "      <td>...</td>\n",
       "      <td>...</td>\n",
       "      <td>...</td>\n",
       "      <td>...</td>\n",
       "      <td>...</td>\n",
       "      <td>...</td>\n",
       "      <td>...</td>\n",
       "      <td>...</td>\n",
       "      <td>...</td>\n",
       "      <td>...</td>\n",
       "      <td>...</td>\n",
       "      <td>...</td>\n",
       "      <td>...</td>\n",
       "      <td>...</td>\n",
       "    </tr>\n",
       "    <tr>\n",
       "      <th>64</th>\n",
       "      <td>1</td>\n",
       "      <td>0</td>\n",
       "      <td>0</td>\n",
       "      <td>1</td>\n",
       "      <td>0</td>\n",
       "      <td>0</td>\n",
       "      <td>1</td>\n",
       "      <td>1</td>\n",
       "      <td>1</td>\n",
       "      <td>1</td>\n",
       "      <td>0</td>\n",
       "      <td>0</td>\n",
       "      <td>4</td>\n",
       "      <td>1</td>\n",
       "      <td>0</td>\n",
       "      <td>1</td>\n",
       "    </tr>\n",
       "    <tr>\n",
       "      <th>17</th>\n",
       "      <td>1</td>\n",
       "      <td>0</td>\n",
       "      <td>0</td>\n",
       "      <td>1</td>\n",
       "      <td>0</td>\n",
       "      <td>0</td>\n",
       "      <td>0</td>\n",
       "      <td>1</td>\n",
       "      <td>1</td>\n",
       "      <td>1</td>\n",
       "      <td>0</td>\n",
       "      <td>0</td>\n",
       "      <td>4</td>\n",
       "      <td>1</td>\n",
       "      <td>0</td>\n",
       "      <td>1</td>\n",
       "    </tr>\n",
       "    <tr>\n",
       "      <th>35</th>\n",
       "      <td>1</td>\n",
       "      <td>0</td>\n",
       "      <td>0</td>\n",
       "      <td>1</td>\n",
       "      <td>0</td>\n",
       "      <td>0</td>\n",
       "      <td>0</td>\n",
       "      <td>1</td>\n",
       "      <td>1</td>\n",
       "      <td>1</td>\n",
       "      <td>0</td>\n",
       "      <td>0</td>\n",
       "      <td>4</td>\n",
       "      <td>1</td>\n",
       "      <td>1</td>\n",
       "      <td>0</td>\n",
       "    </tr>\n",
       "    <tr>\n",
       "      <th>37</th>\n",
       "      <td>0</td>\n",
       "      <td>1</td>\n",
       "      <td>1</td>\n",
       "      <td>0</td>\n",
       "      <td>1</td>\n",
       "      <td>0</td>\n",
       "      <td>1</td>\n",
       "      <td>0</td>\n",
       "      <td>1</td>\n",
       "      <td>1</td>\n",
       "      <td>0</td>\n",
       "      <td>0</td>\n",
       "      <td>2</td>\n",
       "      <td>1</td>\n",
       "      <td>0</td>\n",
       "      <td>0</td>\n",
       "    </tr>\n",
       "    <tr>\n",
       "      <th>90</th>\n",
       "      <td>0</td>\n",
       "      <td>0</td>\n",
       "      <td>1</td>\n",
       "      <td>0</td>\n",
       "      <td>0</td>\n",
       "      <td>0</td>\n",
       "      <td>0</td>\n",
       "      <td>0</td>\n",
       "      <td>1</td>\n",
       "      <td>1</td>\n",
       "      <td>0</td>\n",
       "      <td>0</td>\n",
       "      <td>4</td>\n",
       "      <td>1</td>\n",
       "      <td>0</td>\n",
       "      <td>1</td>\n",
       "    </tr>\n",
       "  </tbody>\n",
       "</table>\n",
       "<p>80 rows × 16 columns</p>\n",
       "</div>"
      ],
      "text/plain": [
       "    hair  feathers  eggs  milk  airborne  aquatic  predator  toothed  \\\n",
       "11     0         1     1     0         1        0         0        0   \n",
       "99     0         0     1     0         0        0         0        0   \n",
       "43     0         1     1     0         1        0         0        0   \n",
       "70     1         0     0     1         0        0         0        1   \n",
       "73     0         0     1     0         0        1         0        1   \n",
       "..   ...       ...   ...   ...       ...      ...       ...      ...   \n",
       "64     1         0     0     1         0        0         1        1   \n",
       "17     1         0     0     1         0        0         0        1   \n",
       "35     1         0     0     1         0        0         0        1   \n",
       "37     0         1     1     0         1        0         1        0   \n",
       "90     0         0     1     0         0        0         0        0   \n",
       "\n",
       "    backbone  breathes  venomous  fins  legs  tail  domestic  catsize  \n",
       "11         1         1         0     0     2     1         1        0  \n",
       "99         0         1         0     0     0     0         0        0  \n",
       "43         1         1         0     0     2     1         0        0  \n",
       "70         1         1         0     0     4     1         1        1  \n",
       "73         1         0         0     1     0     1         0        0  \n",
       "..       ...       ...       ...   ...   ...   ...       ...      ...  \n",
       "64         1         1         0     0     4     1         0        1  \n",
       "17         1         1         0     0     4     1         0        1  \n",
       "35         1         1         0     0     4     1         1        0  \n",
       "37         1         1         0     0     2     1         0        0  \n",
       "90         1         1         0     0     4     1         0        1  \n",
       "\n",
       "[80 rows x 16 columns]"
      ]
     },
     "execution_count": 33,
     "metadata": {},
     "output_type": "execute_result"
    }
   ],
   "source": [
    "# this is what the training dataset looks like\n",
    "X_train"
   ]
  },
  {
   "cell_type": "code",
   "execution_count": 34,
   "id": "f295af58",
   "metadata": {
    "execution": {
     "iopub.execute_input": "2023-05-19T12:31:37.668359Z",
     "iopub.status.busy": "2023-05-19T12:31:37.667416Z",
     "iopub.status.idle": "2023-05-19T12:31:37.678459Z",
     "shell.execute_reply": "2023-05-19T12:31:37.676833Z"
    },
    "papermill": {
     "duration": 0.048442,
     "end_time": "2023-05-19T12:31:37.681438",
     "exception": false,
     "start_time": "2023-05-19T12:31:37.632996",
     "status": "completed"
    },
    "tags": []
   },
   "outputs": [
    {
     "name": "stdout",
     "output_type": "stream",
     "text": [
      "[[1 0 0 0 0 0 0]\n",
      " [0 4 0 0 0 0 0]\n",
      " [0 0 2 0 0 0 0]\n",
      " [0 0 0 3 0 0 0]\n",
      " [0 0 0 0 2 0 0]\n",
      " [0 0 0 0 0 8 0]\n",
      " [1 0 0 0 0 0 0]]\n"
     ]
    }
   ],
   "source": [
    "from sklearn import metrics\n",
    "predictions = model.predict(X_test)\n",
    "cm = metrics.confusion_matrix(y_test, predictions)\n",
    "print(cm)"
   ]
  },
  {
   "cell_type": "code",
   "execution_count": 35,
   "id": "3037b9eb",
   "metadata": {
    "execution": {
     "iopub.execute_input": "2023-05-19T12:31:37.749754Z",
     "iopub.status.busy": "2023-05-19T12:31:37.748803Z",
     "iopub.status.idle": "2023-05-19T12:31:38.284905Z",
     "shell.execute_reply": "2023-05-19T12:31:38.283936Z"
    },
    "papermill": {
     "duration": 0.573029,
     "end_time": "2023-05-19T12:31:38.287615",
     "exception": false,
     "start_time": "2023-05-19T12:31:37.714586",
     "status": "completed"
    },
    "tags": []
   },
   "outputs": [
    {
     "data": {
      "text/plain": [
       "Text(84.5, 0.5, 'true')"
      ]
     },
     "execution_count": 35,
     "metadata": {},
     "output_type": "execute_result"
    },
    {
     "data": {
      "image/png": "[encoded data removed]",
      "text/plain": [
       "<Figure size 864x432 with 2 Axes>"
      ]
     },
     "metadata": {},
     "output_type": "display_data"
    }
   ],
   "source": [
    "# Define labels for the matrix\n",
    "labels = [\"Mammal\", \"Bird\", \"Reptile\", \"Fish\",\"Amphibian\",\"Bug\",\"Invertebrate\"]\n",
    "\n",
    "sns.heatmap(cm,annot=True,xticklabels=labels, yticklabels=labels)\n",
    "plt.xlabel(\"predicted\")\n",
    "plt.ylabel(\"true\")"
   ]
  },
  {
   "cell_type": "code",
   "execution_count": 36,
   "id": "73fbddd7",
   "metadata": {
    "execution": {
     "iopub.execute_input": "2023-05-19T12:31:38.360136Z",
     "iopub.status.busy": "2023-05-19T12:31:38.359432Z",
     "iopub.status.idle": "2023-05-19T12:31:38.371631Z",
     "shell.execute_reply": "2023-05-19T12:31:38.370174Z"
    },
    "papermill": {
     "duration": 0.052468,
     "end_time": "2023-05-19T12:31:38.374589",
     "exception": false,
     "start_time": "2023-05-19T12:31:38.322121",
     "status": "completed"
    },
    "tags": []
   },
   "outputs": [
    {
     "name": "stdout",
     "output_type": "stream",
     "text": [
      "training accuracy : 0.9875\n",
      "testing accuracy : 0.9523809523809523\n"
     ]
    }
   ],
   "source": [
    "print(\"training accuracy :\", model.score(X_train, y_train))\n",
    "print(\"testing accuracy :\", model.score(X_test, y_test))"
   ]
  },
  {
   "cell_type": "code",
   "execution_count": 37,
   "id": "bdb90715",
   "metadata": {
    "execution": {
     "iopub.execute_input": "2023-05-19T12:31:38.444427Z",
     "iopub.status.busy": "2023-05-19T12:31:38.443999Z",
     "iopub.status.idle": "2023-05-19T12:31:38.453074Z",
     "shell.execute_reply": "2023-05-19T12:31:38.451623Z"
    },
    "papermill": {
     "duration": 0.047288,
     "end_time": "2023-05-19T12:31:38.455892",
     "exception": false,
     "start_time": "2023-05-19T12:31:38.408604",
     "status": "completed"
    },
    "tags": []
   },
   "outputs": [],
   "source": [
    "scores=[]\n",
    "score=model.score(X_test, y_test)\n",
    "scores.append(score)"
   ]
  },
  {
   "cell_type": "markdown",
   "id": "10f99018",
   "metadata": {
    "papermill": {
     "duration": 0.033383,
     "end_time": "2023-05-19T12:31:38.523671",
     "exception": false,
     "start_time": "2023-05-19T12:31:38.490288",
     "status": "completed"
    },
    "tags": []
   },
   "source": [
    "# 2:K-NEAREST NEIGHBORS"
   ]
  },
  {
   "cell_type": "code",
   "execution_count": 38,
   "id": "4f79ca45",
   "metadata": {
    "execution": {
     "iopub.execute_input": "2023-05-19T12:31:38.596167Z",
     "iopub.status.busy": "2023-05-19T12:31:38.595747Z",
     "iopub.status.idle": "2023-05-19T12:31:38.666188Z",
     "shell.execute_reply": "2023-05-19T12:31:38.664838Z"
    },
    "papermill": {
     "duration": 0.110774,
     "end_time": "2023-05-19T12:31:38.669050",
     "exception": false,
     "start_time": "2023-05-19T12:31:38.558276",
     "status": "completed"
    },
    "tags": []
   },
   "outputs": [],
   "source": [
    "# from sklearn.family_name import model\n",
    "from sklearn.neighbors import KNeighborsClassifier"
   ]
  },
  {
   "cell_type": "code",
   "execution_count": 39,
   "id": "01e3b64c",
   "metadata": {
    "execution": {
     "iopub.execute_input": "2023-05-19T12:31:38.740413Z",
     "iopub.status.busy": "2023-05-19T12:31:38.739938Z",
     "iopub.status.idle": "2023-05-19T12:31:39.029696Z",
     "shell.execute_reply": "2023-05-19T12:31:39.027625Z"
    },
    "papermill": {
     "duration": 0.328284,
     "end_time": "2023-05-19T12:31:39.032054",
     "exception": true,
     "start_time": "2023-05-19T12:31:38.703770",
     "status": "failed"
    },
    "tags": []
   },
   "outputs": [
    {
     "ename": "NameError",
     "evalue": "name 'accuracy_score' is not defined",
     "output_type": "error",
     "traceback": [
      "\u001b[0;31m---------------------------------------------------------------------------\u001b[0m",
      "\u001b[0;31mNameError\u001b[0m                                 Traceback (most recent call last)",
      "\u001b[0;32m/tmp/ipykernel_19/111180953.py\u001b[0m in \u001b[0;36m<module>\u001b[0;34m\u001b[0m\n\u001b[1;32m      6\u001b[0m \u001b[0my_pred_KNeighborsClassifier\u001b[0m \u001b[0;34m=\u001b[0m \u001b[0mclf\u001b[0m\u001b[0;34m.\u001b[0m\u001b[0mpredict\u001b[0m\u001b[0;34m(\u001b[0m\u001b[0mX_test\u001b[0m\u001b[0;34m)\u001b[0m\u001b[0;34m\u001b[0m\u001b[0;34m\u001b[0m\u001b[0m\n\u001b[1;32m      7\u001b[0m \u001b[0;31m#Get Accuracy Score\u001b[0m\u001b[0;34m\u001b[0m\u001b[0;34m\u001b[0m\u001b[0;34m\u001b[0m\u001b[0m\n\u001b[0;32m----> 8\u001b[0;31m \u001b[0mscore\u001b[0m \u001b[0;34m=\u001b[0m \u001b[0maccuracy_score\u001b[0m\u001b[0;34m(\u001b[0m\u001b[0my_pred_KNeighborsClassifier\u001b[0m\u001b[0;34m,\u001b[0m\u001b[0my_test\u001b[0m\u001b[0;34m)\u001b[0m\u001b[0;34m\u001b[0m\u001b[0;34m\u001b[0m\u001b[0m\n\u001b[0m\u001b[1;32m      9\u001b[0m \u001b[0mscore\u001b[0m\u001b[0;34m\u001b[0m\u001b[0;34m\u001b[0m\u001b[0m\n",
      "\u001b[0;31mNameError\u001b[0m: name 'accuracy_score' is not defined"
     ]
    }
   ],
   "source": [
    "\n",
    "# Declare the model\n",
    "clf = KNeighborsClassifier(n_neighbors=5)\n",
    "\n",
    "# Train the model\n",
    "clf.fit(X_train, y_train)\n",
    "y_pred_KNeighborsClassifier = clf.predict(X_test)\n",
    "#Get Accuracy Score\n",
    "score = accuracy_score(y_pred_KNeighborsClassifier,y_test)\n",
    "score"
   ]
  },
  {
   "cell_type": "code",
   "execution_count": null,
   "id": "b0e30a60",
   "metadata": {
    "execution": {
     "iopub.execute_input": "2023-05-19T12:23:22.480344Z",
     "iopub.status.busy": "2023-05-19T12:23:22.479865Z",
     "iopub.status.idle": "2023-05-19T12:23:22.493150Z",
     "shell.execute_reply": "2023-05-19T12:23:22.491443Z",
     "shell.execute_reply.started": "2023-05-19T12:23:22.480302Z"
    },
    "papermill": {
     "duration": null,
     "end_time": null,
     "exception": null,
     "start_time": null,
     "status": "pending"
    },
    "tags": []
   },
   "outputs": [],
   "source": [
    "pred=clf.predict(X_test)"
   ]
  },
  {
   "cell_type": "code",
   "execution_count": null,
   "id": "da1b6b1e",
   "metadata": {
    "execution": {
     "iopub.execute_input": "2023-05-19T12:23:25.651138Z",
     "iopub.status.busy": "2023-05-19T12:23:25.650679Z",
     "iopub.status.idle": "2023-05-19T12:23:25.662784Z",
     "shell.execute_reply": "2023-05-19T12:23:25.661888Z",
     "shell.execute_reply.started": "2023-05-19T12:23:25.651102Z"
    },
    "papermill": {
     "duration": null,
     "end_time": null,
     "exception": null,
     "start_time": null,
     "status": "pending"
    },
    "tags": []
   },
   "outputs": [],
   "source": [
    "clf.score(X_test,y_test)"
   ]
  },
  {
   "cell_type": "code",
   "execution_count": null,
   "id": "e4a09ac9",
   "metadata": {
    "execution": {
     "iopub.execute_input": "2023-05-19T12:23:26.208515Z",
     "iopub.status.busy": "2023-05-19T12:23:26.207179Z",
     "iopub.status.idle": "2023-05-19T12:23:26.275487Z",
     "shell.execute_reply": "2023-05-19T12:23:26.273815Z",
     "shell.execute_reply.started": "2023-05-19T12:23:26.208474Z"
    },
    "papermill": {
     "duration": null,
     "end_time": null,
     "exception": null,
     "start_time": null,
     "status": "pending"
    },
    "tags": []
   },
   "outputs": [],
   "source": [
    "#use cross validation score since this is a small size dataset \n",
    "#Get cross validation score of K-Nearest Neighbors\n",
    "\n",
    "from sklearn.model_selection import cross_val_score\n",
    "\n",
    "\n",
    "cv_scores = [] # store cross vadidation score of all the algorithms.\n",
    "\n",
    "score_knn=cross_val_score(clf, X,Y, cv=10)\n",
    "\n",
    "print(\"K-Nearest Neighbors Accuracy: %0.2f (+/- %0.2f) with k value equals to 3\" % (score_knn.mean(), score_knn.std() * 2))"
   ]
  },
  {
   "cell_type": "code",
   "execution_count": null,
   "id": "9c12da10",
   "metadata": {
    "execution": {
     "iopub.execute_input": "2023-05-19T12:23:27.038938Z",
     "iopub.status.busy": "2023-05-19T12:23:27.038523Z",
     "iopub.status.idle": "2023-05-19T12:23:27.044734Z",
     "shell.execute_reply": "2023-05-19T12:23:27.043433Z",
     "shell.execute_reply.started": "2023-05-19T12:23:27.038905Z"
    },
    "papermill": {
     "duration": null,
     "end_time": null,
     "exception": null,
     "start_time": null,
     "status": "pending"
    },
    "tags": []
   },
   "outputs": [],
   "source": [
    "scores.append(score)"
   ]
  },
  {
   "cell_type": "code",
   "execution_count": null,
   "id": "0243b31f",
   "metadata": {
    "execution": {
     "iopub.execute_input": "2023-05-19T12:23:27.852498Z",
     "iopub.status.busy": "2023-05-19T12:23:27.852047Z",
     "iopub.status.idle": "2023-05-19T12:23:27.858061Z",
     "shell.execute_reply": "2023-05-19T12:23:27.856740Z",
     "shell.execute_reply.started": "2023-05-19T12:23:27.852463Z"
    },
    "papermill": {
     "duration": null,
     "end_time": null,
     "exception": null,
     "start_time": null,
     "status": "pending"
    },
    "tags": []
   },
   "outputs": [],
   "source": [
    "from sklearn.metrics import confusion_matrix,classification_report,accuracy_score"
   ]
  },
  {
   "cell_type": "code",
   "execution_count": null,
   "id": "6ab95c4d",
   "metadata": {
    "execution": {
     "iopub.execute_input": "2023-05-19T12:23:28.448790Z",
     "iopub.status.busy": "2023-05-19T12:23:28.448297Z",
     "iopub.status.idle": "2023-05-19T12:23:28.457325Z",
     "shell.execute_reply": "2023-05-19T12:23:28.455945Z",
     "shell.execute_reply.started": "2023-05-19T12:23:28.448753Z"
    },
    "papermill": {
     "duration": null,
     "end_time": null,
     "exception": null,
     "start_time": null,
     "status": "pending"
    },
    "tags": []
   },
   "outputs": [],
   "source": [
    "print(confusion_matrix(y_test,pred))"
   ]
  },
  {
   "cell_type": "code",
   "execution_count": null,
   "id": "56026ff8",
   "metadata": {
    "execution": {
     "iopub.execute_input": "2023-05-19T12:23:29.199792Z",
     "iopub.status.busy": "2023-05-19T12:23:29.199340Z",
     "iopub.status.idle": "2023-05-19T12:23:29.215185Z",
     "shell.execute_reply": "2023-05-19T12:23:29.213643Z",
     "shell.execute_reply.started": "2023-05-19T12:23:29.199755Z"
    },
    "papermill": {
     "duration": null,
     "end_time": null,
     "exception": null,
     "start_time": null,
     "status": "pending"
    },
    "tags": []
   },
   "outputs": [],
   "source": [
    "print(classification_report(y_test,pred))"
   ]
  },
  {
   "cell_type": "code",
   "execution_count": null,
   "id": "8089e953",
   "metadata": {
    "execution": {
     "iopub.execute_input": "2023-05-19T12:23:29.815817Z",
     "iopub.status.busy": "2023-05-19T12:23:29.815227Z",
     "iopub.status.idle": "2023-05-19T12:23:29.822877Z",
     "shell.execute_reply": "2023-05-19T12:23:29.821163Z",
     "shell.execute_reply.started": "2023-05-19T12:23:29.815771Z"
    },
    "papermill": {
     "duration": null,
     "end_time": null,
     "exception": null,
     "start_time": null,
     "status": "pending"
    },
    "tags": []
   },
   "outputs": [],
   "source": [
    "# error_rate=[]\n",
    "# plt.figure(figsize=(10,6))\n",
    "# plt.plot(range(1,40),error_rate,color='blue', linestyle='dashed', marker='o',\n",
    "#          markerfacecolor='red', markersize=10)\n",
    "# plt.title('Error Rate vs. K Value')\n",
    "# plt.xlabel('K')\n",
    "# plt.ylabel('Error Rate')"
   ]
  },
  {
   "cell_type": "markdown",
   "id": "26a07e12",
   "metadata": {
    "papermill": {
     "duration": null,
     "end_time": null,
     "exception": null,
     "start_time": null,
     "status": "pending"
    },
    "tags": []
   },
   "source": [
    "# 3:DECISION TREE"
   ]
  },
  {
   "cell_type": "code",
   "execution_count": null,
   "id": "434c7f3b",
   "metadata": {
    "execution": {
     "iopub.execute_input": "2023-05-19T12:23:31.420834Z",
     "iopub.status.busy": "2023-05-19T12:23:31.420209Z",
     "iopub.status.idle": "2023-05-19T12:23:31.455043Z",
     "shell.execute_reply": "2023-05-19T12:23:31.453824Z",
     "shell.execute_reply.started": "2023-05-19T12:23:31.420788Z"
    },
    "papermill": {
     "duration": null,
     "end_time": null,
     "exception": null,
     "start_time": null,
     "status": "pending"
    },
    "tags": []
   },
   "outputs": [],
   "source": [
    "from sklearn.tree import DecisionTreeClassifier"
   ]
  },
  {
   "cell_type": "code",
   "execution_count": null,
   "id": "4dab5fd1",
   "metadata": {
    "execution": {
     "iopub.execute_input": "2023-05-19T12:23:31.967235Z",
     "iopub.status.busy": "2023-05-19T12:23:31.966814Z",
     "iopub.status.idle": "2023-05-19T12:23:31.980690Z",
     "shell.execute_reply": "2023-05-19T12:23:31.979372Z",
     "shell.execute_reply.started": "2023-05-19T12:23:31.967202Z"
    },
    "papermill": {
     "duration": null,
     "end_time": null,
     "exception": null,
     "start_time": null,
     "status": "pending"
    },
    "tags": []
   },
   "outputs": [],
   "source": [
    "\n",
    "dt = DecisionTreeClassifier(criterion='gini', max_depth=5)\n",
    "dt.fit(X_train,y_train)"
   ]
  },
  {
   "cell_type": "code",
   "execution_count": null,
   "id": "32f0baff",
   "metadata": {
    "execution": {
     "iopub.execute_input": "2023-05-19T12:23:32.605168Z",
     "iopub.status.busy": "2023-05-19T12:23:32.604753Z",
     "iopub.status.idle": "2023-05-19T12:23:32.616235Z",
     "shell.execute_reply": "2023-05-19T12:23:32.614978Z",
     "shell.execute_reply.started": "2023-05-19T12:23:32.605136Z"
    },
    "papermill": {
     "duration": null,
     "end_time": null,
     "exception": null,
     "start_time": null,
     "status": "pending"
    },
    "tags": []
   },
   "outputs": [],
   "source": [
    "y_pred1= dt.predict(X_test) # making prediction \n",
    "y_pred1"
   ]
  },
  {
   "cell_type": "code",
   "execution_count": null,
   "id": "439b4889",
   "metadata": {
    "execution": {
     "iopub.execute_input": "2023-05-19T12:23:33.243274Z",
     "iopub.status.busy": "2023-05-19T12:23:33.242842Z",
     "iopub.status.idle": "2023-05-19T12:23:33.251258Z",
     "shell.execute_reply": "2023-05-19T12:23:33.249752Z",
     "shell.execute_reply.started": "2023-05-19T12:23:33.243239Z"
    },
    "papermill": {
     "duration": null,
     "end_time": null,
     "exception": null,
     "start_time": null,
     "status": "pending"
    },
    "tags": []
   },
   "outputs": [],
   "source": [
    "score=accuracy_score( y_pred1,y_test) \n",
    "score\n",
    "scores.append(score)"
   ]
  },
  {
   "cell_type": "code",
   "execution_count": null,
   "id": "004a750d",
   "metadata": {
    "execution": {
     "iopub.execute_input": "2023-05-19T12:23:33.901658Z",
     "iopub.status.busy": "2023-05-19T12:23:33.901154Z",
     "iopub.status.idle": "2023-05-19T12:23:33.937147Z",
     "shell.execute_reply": "2023-05-19T12:23:33.935055Z",
     "shell.execute_reply.started": "2023-05-19T12:23:33.901622Z"
    },
    "papermill": {
     "duration": null,
     "end_time": null,
     "exception": null,
     "start_time": null,
     "status": "pending"
    },
    "tags": []
   },
   "outputs": [],
   "source": [
    "print(confusion_matrix(y_test, y_pred)) "
   ]
  },
  {
   "cell_type": "code",
   "execution_count": null,
   "id": "046a6ca4",
   "metadata": {
    "execution": {
     "iopub.execute_input": "2023-05-19T12:23:34.596267Z",
     "iopub.status.busy": "2023-05-19T12:23:34.595753Z",
     "iopub.status.idle": "2023-05-19T12:23:36.256499Z",
     "shell.execute_reply": "2023-05-19T12:23:36.255541Z",
     "shell.execute_reply.started": "2023-05-19T12:23:34.596216Z"
    },
    "papermill": {
     "duration": null,
     "end_time": null,
     "exception": null,
     "start_time": null,
     "status": "pending"
    },
    "tags": []
   },
   "outputs": [],
   "source": [
    "from sklearn.tree import plot_tree # tree diagram\n",
    "\n",
    "plt.figure(figsize=(25, 20))\n",
    "plot_tree(dt, feature_names = features, class_names = zoo[\"class_type_y\"], filled = True, rounded = False)\n",
    "\n",
    "plt.savefig('tree_visualization.png') "
   ]
  },
  {
   "cell_type": "markdown",
   "id": "6500f5d6",
   "metadata": {
    "papermill": {
     "duration": null,
     "end_time": null,
     "exception": null,
     "start_time": null,
     "status": "pending"
    },
    "tags": []
   },
   "source": [
    "# 4:RANDOM FOREST "
   ]
  },
  {
   "cell_type": "code",
   "execution_count": null,
   "id": "aa9a8b7f",
   "metadata": {
    "execution": {
     "iopub.execute_input": "2023-05-19T12:23:39.028914Z",
     "iopub.status.busy": "2023-05-19T12:23:39.028425Z",
     "iopub.status.idle": "2023-05-19T12:23:39.168481Z",
     "shell.execute_reply": "2023-05-19T12:23:39.166843Z",
     "shell.execute_reply.started": "2023-05-19T12:23:39.028877Z"
    },
    "papermill": {
     "duration": null,
     "end_time": null,
     "exception": null,
     "start_time": null,
     "status": "pending"
    },
    "tags": []
   },
   "outputs": [],
   "source": [
    "from sklearn.ensemble import RandomForestClassifier\n",
    "\n",
    "model = RandomForestClassifier(random_state = 0,n_estimators=25)\n",
    "model.fit(X_train, y_train)\n",
    "print(\"training accuracy :\", model.score(X_train, y_train))\n",
    "print(\"testing accuracy :\", model.score(X_test, y_test))"
   ]
  },
  {
   "cell_type": "code",
   "execution_count": null,
   "id": "3bda972a",
   "metadata": {
    "execution": {
     "iopub.execute_input": "2023-05-19T12:23:39.990254Z",
     "iopub.status.busy": "2023-05-19T12:23:39.989702Z",
     "iopub.status.idle": "2023-05-19T12:23:40.006987Z",
     "shell.execute_reply": "2023-05-19T12:23:40.005147Z",
     "shell.execute_reply.started": "2023-05-19T12:23:39.990212Z"
    },
    "papermill": {
     "duration": null,
     "end_time": null,
     "exception": null,
     "start_time": null,
     "status": "pending"
    },
    "tags": []
   },
   "outputs": [],
   "source": [
    "y_pred_RandomForestClassifier = model.predict(X_test)\n",
    "score = accuracy_score(y_pred_RandomForestClassifier,y_test)\n",
    "score\n",
    "scores.append(score)\n"
   ]
  },
  {
   "cell_type": "code",
   "execution_count": null,
   "id": "0711c564",
   "metadata": {
    "execution": {
     "iopub.execute_input": "2023-05-19T12:23:40.788590Z",
     "iopub.status.busy": "2023-05-19T12:23:40.788076Z",
     "iopub.status.idle": "2023-05-19T12:23:40.863485Z",
     "shell.execute_reply": "2023-05-19T12:23:40.862092Z",
     "shell.execute_reply.started": "2023-05-19T12:23:40.788551Z"
    },
    "papermill": {
     "duration": null,
     "end_time": null,
     "exception": null,
     "start_time": null,
     "status": "pending"
    },
    "tags": []
   },
   "outputs": [],
   "source": [
    "#Get cross validation score of random forest model\n",
    "score_forest=cross_val_score(clf, X,Y, cv=10)\n",
    "score_forest\n",
    "print(\"Random Forest Accuracy: %0.2f (+/- %0.2f)\" % (score_forest.mean(), score_forest.std() * 2))\n",
    "cv_score = score_forest.mean()\n",
    "cv_score"
   ]
  },
  {
   "cell_type": "markdown",
   "id": "eb2b1909",
   "metadata": {
    "papermill": {
     "duration": null,
     "end_time": null,
     "exception": null,
     "start_time": null,
     "status": "pending"
    },
    "tags": []
   },
   "source": [
    "# 5:NAIVE BAYES"
   ]
  },
  {
   "cell_type": "code",
   "execution_count": null,
   "id": "53ee8994",
   "metadata": {
    "execution": {
     "iopub.execute_input": "2023-05-19T12:23:42.158459Z",
     "iopub.status.busy": "2023-05-19T12:23:42.157329Z",
     "iopub.status.idle": "2023-05-19T12:23:42.166277Z",
     "shell.execute_reply": "2023-05-19T12:23:42.164891Z",
     "shell.execute_reply.started": "2023-05-19T12:23:42.158416Z"
    },
    "papermill": {
     "duration": null,
     "end_time": null,
     "exception": null,
     "start_time": null,
     "status": "pending"
    },
    "tags": []
   },
   "outputs": [],
   "source": [
    "from sklearn.naive_bayes import BernoulliNB"
   ]
  },
  {
   "cell_type": "code",
   "execution_count": null,
   "id": "da6306ea",
   "metadata": {
    "execution": {
     "iopub.execute_input": "2023-05-19T12:23:42.877148Z",
     "iopub.status.busy": "2023-05-19T12:23:42.875805Z",
     "iopub.status.idle": "2023-05-19T12:23:42.895215Z",
     "shell.execute_reply": "2023-05-19T12:23:42.893411Z",
     "shell.execute_reply.started": "2023-05-19T12:23:42.877085Z"
    },
    "papermill": {
     "duration": null,
     "end_time": null,
     "exception": null,
     "start_time": null,
     "status": "pending"
    },
    "tags": []
   },
   "outputs": [],
   "source": [
    "\n",
    "print (\"NaiveBayes\")\n",
    "nb = BernoulliNB()\n",
    "clf_nb=nb.fit(X_train,y_train)\n",
    "print (\"Acurracy: \", clf_nb.score(X_test,y_test))\n"
   ]
  },
  {
   "cell_type": "code",
   "execution_count": null,
   "id": "78a99576",
   "metadata": {
    "execution": {
     "iopub.execute_input": "2023-05-19T12:23:43.533625Z",
     "iopub.status.busy": "2023-05-19T12:23:43.533092Z",
     "iopub.status.idle": "2023-05-19T12:23:43.544677Z",
     "shell.execute_reply": "2023-05-19T12:23:43.542804Z",
     "shell.execute_reply.started": "2023-05-19T12:23:43.533586Z"
    },
    "papermill": {
     "duration": null,
     "end_time": null,
     "exception": null,
     "start_time": null,
     "status": "pending"
    },
    "tags": []
   },
   "outputs": [],
   "source": [
    "score=clf_nb.score(X_test,y_test)\n",
    "scores.append(score)"
   ]
  },
  {
   "cell_type": "code",
   "execution_count": null,
   "id": "1c5b5c73",
   "metadata": {
    "execution": {
     "iopub.execute_input": "2023-05-19T12:23:45.249577Z",
     "iopub.status.busy": "2023-05-19T12:23:45.249032Z",
     "iopub.status.idle": "2023-05-19T12:23:45.255316Z",
     "shell.execute_reply": "2023-05-19T12:23:45.253791Z",
     "shell.execute_reply.started": "2023-05-19T12:23:45.249529Z"
    },
    "papermill": {
     "duration": null,
     "end_time": null,
     "exception": null,
     "start_time": null,
     "status": "pending"
    },
    "tags": []
   },
   "outputs": [],
   "source": [
    "\n",
    "from matplotlib.colors import ListedColormap"
   ]
  },
  {
   "cell_type": "code",
   "execution_count": null,
   "id": "bc57e3d3",
   "metadata": {
    "execution": {
     "iopub.execute_input": "2023-05-19T12:23:47.285848Z",
     "iopub.status.busy": "2023-05-19T12:23:47.284981Z",
     "iopub.status.idle": "2023-05-19T12:23:47.672450Z",
     "shell.execute_reply": "2023-05-19T12:23:47.671508Z",
     "shell.execute_reply.started": "2023-05-19T12:23:47.285807Z"
    },
    "papermill": {
     "duration": null,
     "end_time": null,
     "exception": null,
     "start_time": null,
     "status": "pending"
    },
    "tags": []
   },
   "outputs": [],
   "source": [
    "\n",
    "Acc_scores = pd.Series(scores, ['Logistic Regression','KNeighborsClassifier','Decision tree', 'Random forest','naive Bayes'])\n",
    "\n",
    "current_palette = sns.color_palette(\"muted\", n_colors=5)\n",
    "cmap = ListedColormap(sns.color_palette(current_palette).as_hex())\n",
    "#colors = np.random.randint(0,5,5)\n",
    "\n",
    "# Make the bar Plot from f_importances \n",
    "Acc_scores.plot(x='Classifiers', y='Accuracy scores',kind = 'bar',figsize=(16,9), rot=45, fontsize=30, colormap=cmap)\n",
    "#plt.bar(fscores,clfs)\n",
    "plt.xlabel('', fontsize=30)\n",
    "plt.ylabel('Accuracy Score', fontsize=30)\n",
    "plt.ylim([0.75,1])\n",
    "# Show the plot\n",
    "plt.tight_layout()\n",
    "plt.show()\n"
   ]
  },
  {
   "cell_type": "markdown",
   "id": "ff677b1a",
   "metadata": {
    "papermill": {
     "duration": null,
     "end_time": null,
     "exception": null,
     "start_time": null,
     "status": "pending"
    },
    "tags": []
   },
   "source": [
    "The Highest accuracy is obatined by Naive bayes and random forest .\n",
    "And lowest is Observed by decision Tree."
   ]
  },
  {
   "cell_type": "markdown",
   "id": "e7a9f452",
   "metadata": {
    "papermill": {
     "duration": null,
     "end_time": null,
     "exception": null,
     "start_time": null,
     "status": "pending"
    },
    "tags": []
   },
   "source": [
    "# THANK YOU!\n"
   ]
  }
 ],
 "metadata": {
  "kernelspec": {
   "display_name": "Python 3",
   "language": "python",
   "name": "python3"
  },
  "language_info": {
   "codemirror_mode": {
    "name": "ipython",
    "version": 3
   },
   "file_extension": ".py",
   "mimetype": "text/x-python",
   "name": "python",
   "nbconvert_exporter": "python",
   "pygments_lexer": "ipython3",
   "version": "3.7.12"
  },
  "papermill": {
   "default_parameters": {},
   "duration": 25.467555,
   "end_time": "2023-05-19T12:31:40.093523",
   "environment_variables": {},
   "exception": true,
   "input_path": "__notebook__.ipynb",
   "output_path": "__notebook__.ipynb",
   "parameters": {},
   "start_time": "2023-05-19T12:31:14.625968",
   "version": "2.3.4"
  }
 },
 "nbformat": 4,
 "nbformat_minor": 5
}
